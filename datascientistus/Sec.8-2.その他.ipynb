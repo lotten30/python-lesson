{
 "cells": [
  {
   "cell_type": "markdown",
   "metadata": {},
   "source": [
    "[markdown記法](https://qiita.com/tbpgr/items/989c6badefff69377da7)"
   ]
  },
  {
   "cell_type": "markdown",
   "metadata": {},
   "source": [
    "[米国データサイエンティストがやさしく教えるデータサイエンスのためのPython講座](https://www.udemy.com/course/ds_for_python/learn/lecture/21614968#overview)"
   ]
  },
  {
   "cell_type": "markdown",
   "metadata": {},
   "source": [
    "# その他データサイエンスに使えるライブラリ"
   ]
  },
  {
   "cell_type": "code",
   "execution_count": 2,
   "metadata": {},
   "outputs": [],
   "source": [
    "from glob import glob\n",
    "\n",
    "import numpy as np\n",
    "import pandas as pd\n",
    "import matplotlib.pyplot as plt\n",
    "import seaborn as sns\n",
    "%matplotlib inline"
   ]
  },
  {
   "cell_type": "markdown",
   "metadata": {},
   "source": [
    "## glob\n",
    "ワイルドカードを使ってファイル（パス）名のリストを取得する"
   ]
  },
  {
   "cell_type": "code",
   "execution_count": 2,
   "metadata": {},
   "outputs": [
    {
     "data": {
      "text/plain": [
       "['public-covid-data/rp_msk', 'public-covid-data/rp_im']"
      ]
     },
     "execution_count": 2,
     "metadata": {},
     "output_type": "execute_result"
    }
   ],
   "source": [
    "glob('public-covid-data/*')"
   ]
  },
  {
   "cell_type": "markdown",
   "metadata": {},
   "source": [
    "## osとpathlib\n",
    "- os.path.split()\n",
    "- os.path.join()\n",
    "- os.path.exists()\n",
    "- os.path.mkdirs()"
   ]
  },
  {
   "cell_type": "code",
   "execution_count": 3,
   "metadata": {},
   "outputs": [],
   "source": [
    "import os\n",
    "from pathlib import Path"
   ]
  },
  {
   "cell_type": "markdown",
   "metadata": {},
   "source": [
    "### 練習"
   ]
  },
  {
   "cell_type": "code",
   "execution_count": 4,
   "metadata": {},
   "outputs": [],
   "source": [
    "p = Path('public-covid-data/')"
   ]
  },
  {
   "cell_type": "code",
   "execution_count": 52,
   "metadata": {},
   "outputs": [
    {
     "data": {
      "text/plain": [
       "PosixPath('public-covid-data')"
      ]
     },
     "execution_count": 52,
     "metadata": {},
     "output_type": "execute_result"
    }
   ],
   "source": [
    "p"
   ]
  },
  {
   "cell_type": "code",
   "execution_count": 31,
   "metadata": {},
   "outputs": [
    {
     "data": {
      "text/plain": [
       "[PosixPath('public-covid-data/rp_msk'), PosixPath('public-covid-data/rp_im')]"
      ]
     },
     "execution_count": 31,
     "metadata": {},
     "output_type": "execute_result"
    }
   ],
   "source": [
    "list(p.iterdir())"
   ]
  },
  {
   "cell_type": "code",
   "execution_count": 32,
   "metadata": {},
   "outputs": [],
   "source": [
    "sub_p = list(p.iterdir())[0]"
   ]
  },
  {
   "cell_type": "code",
   "execution_count": 34,
   "metadata": {},
   "outputs": [
    {
     "data": {
      "text/plain": [
       "[PosixPath('public-covid-data/rp_msk/3.nii.gz'),\n",
       " PosixPath('public-covid-data/rp_msk/1.nii.gz'),\n",
       " PosixPath('public-covid-data/rp_msk/9.nii.gz'),\n",
       " PosixPath('public-covid-data/rp_msk/2.nii.gz'),\n",
       " PosixPath('public-covid-data/rp_msk/6.nii.gz'),\n",
       " PosixPath('public-covid-data/rp_msk/8.nii.gz'),\n",
       " PosixPath('public-covid-data/rp_msk/7.nii.gz'),\n",
       " PosixPath('public-covid-data/rp_msk/4.nii.gz'),\n",
       " PosixPath('public-covid-data/rp_msk/5.nii.gz')]"
      ]
     },
     "execution_count": 34,
     "metadata": {},
     "output_type": "execute_result"
    }
   ],
   "source": [
    "list(sub_p.iterdir())"
   ]
  },
  {
   "cell_type": "code",
   "execution_count": 37,
   "metadata": {},
   "outputs": [],
   "source": [
    "target_file = list(sub_p.glob('*[6-9]*'))[0]"
   ]
  },
  {
   "cell_type": "code",
   "execution_count": 40,
   "metadata": {},
   "outputs": [],
   "source": [
    "folder_p, file_name = os.path.split(target_file)"
   ]
  },
  {
   "cell_type": "code",
   "execution_count": 41,
   "metadata": {},
   "outputs": [
    {
     "data": {
      "text/plain": [
       "'public-covid-data/rp_msk'"
      ]
     },
     "execution_count": 41,
     "metadata": {},
     "output_type": "execute_result"
    }
   ],
   "source": [
    "folder_p"
   ]
  },
  {
   "cell_type": "code",
   "execution_count": 42,
   "metadata": {},
   "outputs": [
    {
     "data": {
      "text/plain": [
       "'9.nii.gz'"
      ]
     },
     "execution_count": 42,
     "metadata": {},
     "output_type": "execute_result"
    }
   ],
   "source": [
    "file_name"
   ]
  },
  {
   "cell_type": "markdown",
   "metadata": {},
   "source": [
    "### os.path.join()\n",
    "pathの連結"
   ]
  },
  {
   "cell_type": "code",
   "execution_count": 43,
   "metadata": {},
   "outputs": [
    {
     "data": {
      "text/plain": [
       "'public-covid-data/rp_msk/9.nii.gz'"
      ]
     },
     "execution_count": 43,
     "metadata": {},
     "output_type": "execute_result"
    }
   ],
   "source": [
    "os.path.join(folder_p, file_name)"
   ]
  },
  {
   "cell_type": "markdown",
   "metadata": {},
   "source": [
    "### フォルダの作成"
   ]
  },
  {
   "cell_type": "code",
   "execution_count": 47,
   "metadata": {},
   "outputs": [
    {
     "data": {
      "text/plain": [
       "'public-covid-data/new_folder'"
      ]
     },
     "execution_count": 47,
     "metadata": {},
     "output_type": "execute_result"
    }
   ],
   "source": [
    "# public-covid-data/new_folder を作成\n",
    "\n",
    "p = Path('public-covid-data/')\n",
    "new_folder_name = 'new_folder'\n",
    "new_folder_path = os.path.join(p, new_folder_name)\n",
    "new_folder_path"
   ]
  },
  {
   "cell_type": "markdown",
   "metadata": {},
   "source": [
    "### os.path.exists()\n",
    "ファイルまたはディレクトリの存在確認"
   ]
  },
  {
   "cell_type": "code",
   "execution_count": 49,
   "metadata": {},
   "outputs": [
    {
     "data": {
      "text/plain": [
       "False"
      ]
     },
     "execution_count": 49,
     "metadata": {},
     "output_type": "execute_result"
    }
   ],
   "source": [
    "os.path.exists(new_folder_path)"
   ]
  },
  {
   "cell_type": "markdown",
   "metadata": {},
   "source": [
    "### os.makedirs()"
   ]
  },
  {
   "cell_type": "code",
   "execution_count": 50,
   "metadata": {},
   "outputs": [],
   "source": [
    "if not os.path.exists(new_folder_path):\n",
    "    os.makedirs(new_folder_path)"
   ]
  },
  {
   "cell_type": "markdown",
   "metadata": {},
   "source": [
    "## tqdm\n",
    "プログレスバーを表示する"
   ]
  },
  {
   "cell_type": "code",
   "execution_count": 45,
   "metadata": {},
   "outputs": [],
   "source": [
    "from tqdm import tqdm"
   ]
  },
  {
   "cell_type": "code",
   "execution_count": 55,
   "metadata": {},
   "outputs": [
    {
     "name": "stderr",
     "output_type": "stream",
     "text": [
      "0it [00:00, ?it/s]"
     ]
    },
    {
     "data": {
      "text/plain": [
       "<tqdm.std.tqdm at 0x7fd057421b20>"
      ]
     },
     "execution_count": 55,
     "metadata": {},
     "output_type": "execute_result"
    }
   ],
   "source": [
    "tqdm()"
   ]
  },
  {
   "cell_type": "code",
   "execution_count": 59,
   "metadata": {},
   "outputs": [
    {
     "name": "stderr",
     "output_type": "stream",
     "text": [
      "100%|██████████| 10000000/10000000 [00:01<00:00, 6373126.99it/s]"
     ]
    },
    {
     "name": "stdout",
     "output_type": "stream",
     "text": [
      "10000000\n",
      "it took 1.5717971324920654\n"
     ]
    },
    {
     "name": "stderr",
     "output_type": "stream",
     "text": [
      "\n"
     ]
    }
   ],
   "source": [
    "import time\n",
    "sum_ = 0\n",
    "\n",
    "before = time.time()\n",
    "for i in tqdm(range(int(1e7))):\n",
    "    sum_ += 1\n",
    "print(sum_)\n",
    "after = time.time()\n",
    "\n",
    "print('it took {}'.format(after - before))"
   ]
  },
  {
   "cell_type": "code",
   "execution_count": 131,
   "metadata": {},
   "outputs": [
    {
     "data": {
      "text/html": [
       "<div>\n",
       "<style scoped>\n",
       "    .dataframe tbody tr th:only-of-type {\n",
       "        vertical-align: middle;\n",
       "    }\n",
       "\n",
       "    .dataframe tbody tr th {\n",
       "        vertical-align: top;\n",
       "    }\n",
       "\n",
       "    .dataframe thead th {\n",
       "        text-align: right;\n",
       "    }\n",
       "</style>\n",
       "<table border=\"1\" class=\"dataframe\">\n",
       "  <thead>\n",
       "    <tr style=\"text-align: right;\">\n",
       "      <th></th>\n",
       "      <th>path_im</th>\n",
       "      <th>filename</th>\n",
       "      <th>path_msk</th>\n",
       "    </tr>\n",
       "  </thead>\n",
       "  <tbody>\n",
       "    <tr>\n",
       "      <th>0</th>\n",
       "      <td>public-covid-data/rp_im/3.nii.gz</td>\n",
       "      <td>3.nii.gz</td>\n",
       "      <td>public-covid-data/rp_msk/3.nii.gz</td>\n",
       "    </tr>\n",
       "    <tr>\n",
       "      <th>1</th>\n",
       "      <td>public-covid-data/rp_im/1.nii.gz</td>\n",
       "      <td>1.nii.gz</td>\n",
       "      <td>public-covid-data/rp_msk/1.nii.gz</td>\n",
       "    </tr>\n",
       "    <tr>\n",
       "      <th>2</th>\n",
       "      <td>public-covid-data/rp_im/9.nii.gz</td>\n",
       "      <td>9.nii.gz</td>\n",
       "      <td>public-covid-data/rp_msk/9.nii.gz</td>\n",
       "    </tr>\n",
       "    <tr>\n",
       "      <th>3</th>\n",
       "      <td>public-covid-data/rp_im/2.nii.gz</td>\n",
       "      <td>2.nii.gz</td>\n",
       "      <td>public-covid-data/rp_msk/2.nii.gz</td>\n",
       "    </tr>\n",
       "    <tr>\n",
       "      <th>4</th>\n",
       "      <td>public-covid-data/rp_im/6.nii.gz</td>\n",
       "      <td>6.nii.gz</td>\n",
       "      <td>public-covid-data/rp_msk/6.nii.gz</td>\n",
       "    </tr>\n",
       "    <tr>\n",
       "      <th>5</th>\n",
       "      <td>public-covid-data/rp_im/8.nii.gz</td>\n",
       "      <td>8.nii.gz</td>\n",
       "      <td>public-covid-data/rp_msk/8.nii.gz</td>\n",
       "    </tr>\n",
       "    <tr>\n",
       "      <th>6</th>\n",
       "      <td>public-covid-data/rp_im/7.nii.gz</td>\n",
       "      <td>7.nii.gz</td>\n",
       "      <td>public-covid-data/rp_msk/7.nii.gz</td>\n",
       "    </tr>\n",
       "    <tr>\n",
       "      <th>7</th>\n",
       "      <td>public-covid-data/rp_im/4.nii.gz</td>\n",
       "      <td>4.nii.gz</td>\n",
       "      <td>public-covid-data/rp_msk/4.nii.gz</td>\n",
       "    </tr>\n",
       "    <tr>\n",
       "      <th>8</th>\n",
       "      <td>public-covid-data/rp_im/5.nii.gz</td>\n",
       "      <td>5.nii.gz</td>\n",
       "      <td>public-covid-data/rp_msk/5.nii.gz</td>\n",
       "    </tr>\n",
       "  </tbody>\n",
       "</table>\n",
       "</div>"
      ],
      "text/plain": [
       "                            path_im  filename  \\\n",
       "0  public-covid-data/rp_im/3.nii.gz  3.nii.gz   \n",
       "1  public-covid-data/rp_im/1.nii.gz  1.nii.gz   \n",
       "2  public-covid-data/rp_im/9.nii.gz  9.nii.gz   \n",
       "3  public-covid-data/rp_im/2.nii.gz  2.nii.gz   \n",
       "4  public-covid-data/rp_im/6.nii.gz  6.nii.gz   \n",
       "5  public-covid-data/rp_im/8.nii.gz  8.nii.gz   \n",
       "6  public-covid-data/rp_im/7.nii.gz  7.nii.gz   \n",
       "7  public-covid-data/rp_im/4.nii.gz  4.nii.gz   \n",
       "8  public-covid-data/rp_im/5.nii.gz  5.nii.gz   \n",
       "\n",
       "                            path_msk  \n",
       "0  public-covid-data/rp_msk/3.nii.gz  \n",
       "1  public-covid-data/rp_msk/1.nii.gz  \n",
       "2  public-covid-data/rp_msk/9.nii.gz  \n",
       "3  public-covid-data/rp_msk/2.nii.gz  \n",
       "4  public-covid-data/rp_msk/6.nii.gz  \n",
       "5  public-covid-data/rp_msk/8.nii.gz  \n",
       "6  public-covid-data/rp_msk/7.nii.gz  \n",
       "7  public-covid-data/rp_msk/4.nii.gz  \n",
       "8  public-covid-data/rp_msk/5.nii.gz  "
      ]
     },
     "execution_count": 131,
     "metadata": {},
     "output_type": "execute_result"
    }
   ],
   "source": [
    "# データフレームを作成\n",
    "# columns: path_im, filename, path_msk\n",
    "# path_im -> 'public-covid-data/rp_im/5.nii.gz'\n",
    "# filename -> '5.nii.gz'\n",
    "# path_msk -> 'public-covid-data/rp_msk/5.nii.gz'\n",
    "\n",
    "p = Path('public-covid-data')\n",
    "sub_p_msk, sub_p_im = list(p.glob('rp_*'))\n",
    "filename_list = []\n",
    "path_msk_list = []\n",
    "path_im_list = []\n",
    "for _ in list(sub_p_msk.iterdir()):\n",
    "    _, file_name = os.path.split(_)\n",
    "    path_msk_list.append(os.path.join(sub_p_msk, file_name))\n",
    "    path_im_list.append(os.path.join(sub_p_im, file_name))\n",
    "    filename_list.append(file_name)\n",
    "\n",
    "data = {'path_im': path_im_list, 'filename': filename_list, 'path_msk': path_msk_list}\n",
    "df = pd.DataFrame(data)\n",
    "df"
   ]
  },
  {
   "cell_type": "code",
   "execution_count": 6,
   "metadata": {},
   "outputs": [
    {
     "data": {
      "text/html": [
       "<div>\n",
       "<style scoped>\n",
       "    .dataframe tbody tr th:only-of-type {\n",
       "        vertical-align: middle;\n",
       "    }\n",
       "\n",
       "    .dataframe tbody tr th {\n",
       "        vertical-align: top;\n",
       "    }\n",
       "\n",
       "    .dataframe thead th {\n",
       "        text-align: right;\n",
       "    }\n",
       "</style>\n",
       "<table border=\"1\" class=\"dataframe\">\n",
       "  <thead>\n",
       "    <tr style=\"text-align: right;\">\n",
       "      <th></th>\n",
       "      <th>path_msk</th>\n",
       "      <th>filename</th>\n",
       "      <th>path_im</th>\n",
       "    </tr>\n",
       "  </thead>\n",
       "  <tbody>\n",
       "    <tr>\n",
       "      <th>0</th>\n",
       "      <td>public-covid-data/rp_msk/3.nii.gz</td>\n",
       "      <td>3.nii.gz</td>\n",
       "      <td>public-covid-data/rp_im/3.nii.gz</td>\n",
       "    </tr>\n",
       "    <tr>\n",
       "      <th>1</th>\n",
       "      <td>public-covid-data/rp_msk/1.nii.gz</td>\n",
       "      <td>1.nii.gz</td>\n",
       "      <td>public-covid-data/rp_im/1.nii.gz</td>\n",
       "    </tr>\n",
       "    <tr>\n",
       "      <th>2</th>\n",
       "      <td>public-covid-data/rp_msk/9.nii.gz</td>\n",
       "      <td>9.nii.gz</td>\n",
       "      <td>public-covid-data/rp_im/9.nii.gz</td>\n",
       "    </tr>\n",
       "    <tr>\n",
       "      <th>3</th>\n",
       "      <td>public-covid-data/rp_msk/2.nii.gz</td>\n",
       "      <td>2.nii.gz</td>\n",
       "      <td>public-covid-data/rp_im/2.nii.gz</td>\n",
       "    </tr>\n",
       "    <tr>\n",
       "      <th>4</th>\n",
       "      <td>public-covid-data/rp_msk/6.nii.gz</td>\n",
       "      <td>6.nii.gz</td>\n",
       "      <td>public-covid-data/rp_im/6.nii.gz</td>\n",
       "    </tr>\n",
       "    <tr>\n",
       "      <th>5</th>\n",
       "      <td>public-covid-data/rp_msk/8.nii.gz</td>\n",
       "      <td>8.nii.gz</td>\n",
       "      <td>public-covid-data/rp_im/8.nii.gz</td>\n",
       "    </tr>\n",
       "    <tr>\n",
       "      <th>6</th>\n",
       "      <td>public-covid-data/rp_msk/7.nii.gz</td>\n",
       "      <td>7.nii.gz</td>\n",
       "      <td>public-covid-data/rp_im/7.nii.gz</td>\n",
       "    </tr>\n",
       "    <tr>\n",
       "      <th>7</th>\n",
       "      <td>public-covid-data/rp_msk/4.nii.gz</td>\n",
       "      <td>4.nii.gz</td>\n",
       "      <td>public-covid-data/rp_im/4.nii.gz</td>\n",
       "    </tr>\n",
       "    <tr>\n",
       "      <th>8</th>\n",
       "      <td>public-covid-data/rp_msk/5.nii.gz</td>\n",
       "      <td>5.nii.gz</td>\n",
       "      <td>public-covid-data/rp_im/5.nii.gz</td>\n",
       "    </tr>\n",
       "  </tbody>\n",
       "</table>\n",
       "</div>"
      ],
      "text/plain": [
       "                            path_msk  filename  \\\n",
       "0  public-covid-data/rp_msk/3.nii.gz  3.nii.gz   \n",
       "1  public-covid-data/rp_msk/1.nii.gz  1.nii.gz   \n",
       "2  public-covid-data/rp_msk/9.nii.gz  9.nii.gz   \n",
       "3  public-covid-data/rp_msk/2.nii.gz  2.nii.gz   \n",
       "4  public-covid-data/rp_msk/6.nii.gz  6.nii.gz   \n",
       "5  public-covid-data/rp_msk/8.nii.gz  8.nii.gz   \n",
       "6  public-covid-data/rp_msk/7.nii.gz  7.nii.gz   \n",
       "7  public-covid-data/rp_msk/4.nii.gz  4.nii.gz   \n",
       "8  public-covid-data/rp_msk/5.nii.gz  5.nii.gz   \n",
       "\n",
       "                            path_im  \n",
       "0  public-covid-data/rp_im/3.nii.gz  \n",
       "1  public-covid-data/rp_im/1.nii.gz  \n",
       "2  public-covid-data/rp_im/9.nii.gz  \n",
       "3  public-covid-data/rp_im/2.nii.gz  \n",
       "4  public-covid-data/rp_im/6.nii.gz  \n",
       "5  public-covid-data/rp_im/8.nii.gz  \n",
       "6  public-covid-data/rp_im/7.nii.gz  \n",
       "7  public-covid-data/rp_im/4.nii.gz  \n",
       "8  public-covid-data/rp_im/5.nii.gz  "
      ]
     },
     "execution_count": 6,
     "metadata": {},
     "output_type": "execute_result"
    }
   ],
   "source": [
    "# 別解\n",
    "\n",
    "p = Path('public-covid-data')\n",
    "df_list = []\n",
    "for folder in p.iterdir():\n",
    "    file_list = [os.path.split(p)[1] for p in list(folder.iterdir())]\n",
    "    path_list = [p.as_posix() for p in list(folder.iterdir())]\n",
    "    df_list.append(pd.DataFrame({'path':path_list, 'filename': file_list}))\n",
    "\n",
    "df = df_list[0].merge(df_list[2], on='filename',suffixes=('_msk', '_im'))\n",
    "df"
   ]
  },
  {
   "cell_type": "code",
   "execution_count": 134,
   "metadata": {},
   "outputs": [
    {
     "name": "stderr",
     "output_type": "stream",
     "text": [
      "100%|██████████| 9/9 [00:00<00:00, 6194.41it/s]"
     ]
    },
    {
     "name": "stdout",
     "output_type": "stream",
     "text": [
      "image path for public-covid-data/rp_im/3.nii.gz is here 3.nii.gz\n",
      "image path for public-covid-data/rp_im/1.nii.gz is here 1.nii.gz\n",
      "image path for public-covid-data/rp_im/9.nii.gz is here 9.nii.gz\n",
      "image path for public-covid-data/rp_im/2.nii.gz is here 2.nii.gz\n",
      "image path for public-covid-data/rp_im/6.nii.gz is here 6.nii.gz\n",
      "image path for public-covid-data/rp_im/8.nii.gz is here 8.nii.gz\n",
      "image path for public-covid-data/rp_im/7.nii.gz is here 7.nii.gz\n",
      "image path for public-covid-data/rp_im/4.nii.gz is here 4.nii.gz\n",
      "image path for public-covid-data/rp_im/5.nii.gz is here 5.nii.gz\n"
     ]
    },
    {
     "name": "stderr",
     "output_type": "stream",
     "text": [
      "\n"
     ]
    }
   ],
   "source": [
    "for idx, row in tqdm(df.iterrows(), total=len(df)):\n",
    "    print('image path for {} is here {}'.format(row['path_im'], row['filename']))"
   ]
  },
  {
   "cell_type": "markdown",
   "metadata": {},
   "source": [
    "## nibabel\n",
    "NIfTI(Neroimagein Informatics Technology Initiative)をPythonで扱う\n",
    "NIfTIは、主に脳のMRI画像のデータ形式に使われている"
   ]
  },
  {
   "cell_type": "code",
   "execution_count": 4,
   "metadata": {},
   "outputs": [],
   "source": [
    "import nibabel as nib"
   ]
  },
  {
   "cell_type": "markdown",
   "metadata": {},
   "source": [
    "### nib.load()\n",
    "- .get_fdata()"
   ]
  },
  {
   "cell_type": "code",
   "execution_count": 7,
   "metadata": {},
   "outputs": [],
   "source": [
    "path_im = df['path_im'].iloc[0]\n",
    "path_msk = df['path_msk'].iloc[0]"
   ]
  },
  {
   "cell_type": "code",
   "execution_count": 8,
   "metadata": {},
   "outputs": [],
   "source": [
    "def load_nifti(path):\n",
    "    im_nifti = nib.load(path)\n",
    "    data = im_nifti.get_fdata()\n",
    "    data = np.transpose(data)\n",
    "\n",
    "    return data"
   ]
  },
  {
   "cell_type": "code",
   "execution_count": 9,
   "metadata": {},
   "outputs": [],
   "source": [
    "data_im = load_nifti(path_im)\n",
    "data_msk = load_nifti(path_msk)"
   ]
  },
  {
   "cell_type": "code",
   "execution_count": 11,
   "metadata": {},
   "outputs": [
    {
     "data": {
      "text/plain": [
       "<matplotlib.image.AxesImage at 0x7f097afd38b0>"
      ]
     },
     "execution_count": 11,
     "metadata": {},
     "output_type": "execute_result"
    },
    {
     "data": {
      "image/png": "[encoded data removed]",
      "text/plain": [
       "<Figure size 432x288 with 1 Axes>"
      ]
     },
     "metadata": {
      "needs_background": "light"
     },
     "output_type": "display_data"
    }
   ],
   "source": [
    "plt.imshow(data_im[200], cmap='gray')"
   ]
  },
  {
   "cell_type": "code",
   "execution_count": 15,
   "metadata": {},
   "outputs": [
    {
     "data": {
      "text/plain": [
       "array([0., 1.])"
      ]
     },
     "execution_count": 15,
     "metadata": {},
     "output_type": "execute_result"
    }
   ],
   "source": [
    "# 0: background 1: ground-glass (GGO: すりガラス影) 2: Consolidation 3: pleaural effusion (胸水)\n",
    "np.unique(data_msk[200])"
   ]
  },
  {
   "cell_type": "code",
   "execution_count": 27,
   "metadata": {},
   "outputs": [
    {
     "data": {
      "text/plain": [
       "0    public-covid-data/rp_im/3.nii.gz\n",
       "1    public-covid-data/rp_im/1.nii.gz\n",
       "2    public-covid-data/rp_im/9.nii.gz\n",
       "3    public-covid-data/rp_im/2.nii.gz\n",
       "4    public-covid-data/rp_im/6.nii.gz\n",
       "5    public-covid-data/rp_im/8.nii.gz\n",
       "6    public-covid-data/rp_im/7.nii.gz\n",
       "7    public-covid-data/rp_im/4.nii.gz\n",
       "8    public-covid-data/rp_im/5.nii.gz\n",
       "Name: path_im, dtype: object"
      ]
     },
     "execution_count": 27,
     "metadata": {},
     "output_type": "execute_result"
    }
   ],
   "source": [
    "df['path_im']"
   ]
  },
  {
   "cell_type": "code",
   "execution_count": 47,
   "metadata": {},
   "outputs": [
    {
     "name": "stderr",
     "output_type": "stream",
     "text": [
      "100%|██████████| 9/9 [00:03<00:00,  2.69it/s]\n"
     ]
    }
   ],
   "source": [
    "slice_num = []\n",
    "for idx in tqdm(range(len(df['path_im'])), total=len(df)):\n",
    "    path_im = df['path_im'].iloc[idx]\n",
    "    data = load_nifti(path_im)\n",
    "    slice_num.append(data.shape[0])\n",
    "\n",
    "df['slice_num'] = slice_num"
   ]
  },
  {
   "cell_type": "code",
   "execution_count": 46,
   "metadata": {},
   "outputs": [
    {
     "name": "stderr",
     "output_type": "stream",
     "text": [
      "100%|██████████| 9/9 [00:03<00:00,  2.68it/s]\n"
     ]
    }
   ],
   "source": [
    "# 別解\n",
    "df['slice_num'] = np.nan\n",
    "for idx, row in tqdm(df.iterrows(), total=len(df)):\n",
    "    data = load_nifti(row['path_im'])\n",
    "    slice_num = data.shape[0]\n",
    "    df.loc[idx, 'slice_num'] = slice_num"
   ]
  },
  {
   "cell_type": "code",
   "execution_count": 43,
   "metadata": {},
   "outputs": [
    {
     "data": {
      "text/html": [
       "<div>\n",
       "<style scoped>\n",
       "    .dataframe tbody tr th:only-of-type {\n",
       "        vertical-align: middle;\n",
       "    }\n",
       "\n",
       "    .dataframe tbody tr th {\n",
       "        vertical-align: top;\n",
       "    }\n",
       "\n",
       "    .dataframe thead th {\n",
       "        text-align: right;\n",
       "    }\n",
       "</style>\n",
       "<table border=\"1\" class=\"dataframe\">\n",
       "  <thead>\n",
       "    <tr style=\"text-align: right;\">\n",
       "      <th></th>\n",
       "      <th>path_msk</th>\n",
       "      <th>filename</th>\n",
       "      <th>path_im</th>\n",
       "      <th>slice_num</th>\n",
       "    </tr>\n",
       "  </thead>\n",
       "  <tbody>\n",
       "    <tr>\n",
       "      <th>0</th>\n",
       "      <td>public-covid-data/rp_msk/3.nii.gz</td>\n",
       "      <td>3.nii.gz</td>\n",
       "      <td>public-covid-data/rp_im/3.nii.gz</td>\n",
       "      <td>418.0</td>\n",
       "    </tr>\n",
       "    <tr>\n",
       "      <th>1</th>\n",
       "      <td>public-covid-data/rp_msk/1.nii.gz</td>\n",
       "      <td>1.nii.gz</td>\n",
       "      <td>public-covid-data/rp_im/1.nii.gz</td>\n",
       "      <td>45.0</td>\n",
       "    </tr>\n",
       "    <tr>\n",
       "      <th>2</th>\n",
       "      <td>public-covid-data/rp_msk/9.nii.gz</td>\n",
       "      <td>9.nii.gz</td>\n",
       "      <td>public-covid-data/rp_im/9.nii.gz</td>\n",
       "      <td>93.0</td>\n",
       "    </tr>\n",
       "    <tr>\n",
       "      <th>3</th>\n",
       "      <td>public-covid-data/rp_msk/2.nii.gz</td>\n",
       "      <td>2.nii.gz</td>\n",
       "      <td>public-covid-data/rp_im/2.nii.gz</td>\n",
       "      <td>39.0</td>\n",
       "    </tr>\n",
       "    <tr>\n",
       "      <th>4</th>\n",
       "      <td>public-covid-data/rp_msk/6.nii.gz</td>\n",
       "      <td>6.nii.gz</td>\n",
       "      <td>public-covid-data/rp_im/6.nii.gz</td>\n",
       "      <td>42.0</td>\n",
       "    </tr>\n",
       "    <tr>\n",
       "      <th>5</th>\n",
       "      <td>public-covid-data/rp_msk/8.nii.gz</td>\n",
       "      <td>8.nii.gz</td>\n",
       "      <td>public-covid-data/rp_im/8.nii.gz</td>\n",
       "      <td>45.0</td>\n",
       "    </tr>\n",
       "    <tr>\n",
       "      <th>6</th>\n",
       "      <td>public-covid-data/rp_msk/7.nii.gz</td>\n",
       "      <td>7.nii.gz</td>\n",
       "      <td>public-covid-data/rp_im/7.nii.gz</td>\n",
       "      <td>42.0</td>\n",
       "    </tr>\n",
       "    <tr>\n",
       "      <th>7</th>\n",
       "      <td>public-covid-data/rp_msk/4.nii.gz</td>\n",
       "      <td>4.nii.gz</td>\n",
       "      <td>public-covid-data/rp_im/4.nii.gz</td>\n",
       "      <td>39.0</td>\n",
       "    </tr>\n",
       "    <tr>\n",
       "      <th>8</th>\n",
       "      <td>public-covid-data/rp_msk/5.nii.gz</td>\n",
       "      <td>5.nii.gz</td>\n",
       "      <td>public-covid-data/rp_im/5.nii.gz</td>\n",
       "      <td>66.0</td>\n",
       "    </tr>\n",
       "  </tbody>\n",
       "</table>\n",
       "</div>"
      ],
      "text/plain": [
       "                            path_msk  filename  \\\n",
       "0  public-covid-data/rp_msk/3.nii.gz  3.nii.gz   \n",
       "1  public-covid-data/rp_msk/1.nii.gz  1.nii.gz   \n",
       "2  public-covid-data/rp_msk/9.nii.gz  9.nii.gz   \n",
       "3  public-covid-data/rp_msk/2.nii.gz  2.nii.gz   \n",
       "4  public-covid-data/rp_msk/6.nii.gz  6.nii.gz   \n",
       "5  public-covid-data/rp_msk/8.nii.gz  8.nii.gz   \n",
       "6  public-covid-data/rp_msk/7.nii.gz  7.nii.gz   \n",
       "7  public-covid-data/rp_msk/4.nii.gz  4.nii.gz   \n",
       "8  public-covid-data/rp_msk/5.nii.gz  5.nii.gz   \n",
       "\n",
       "                            path_im  slice_num  \n",
       "0  public-covid-data/rp_im/3.nii.gz      418.0  \n",
       "1  public-covid-data/rp_im/1.nii.gz       45.0  \n",
       "2  public-covid-data/rp_im/9.nii.gz       93.0  \n",
       "3  public-covid-data/rp_im/2.nii.gz       39.0  \n",
       "4  public-covid-data/rp_im/6.nii.gz       42.0  \n",
       "5  public-covid-data/rp_im/8.nii.gz       45.0  \n",
       "6  public-covid-data/rp_im/7.nii.gz       42.0  \n",
       "7  public-covid-data/rp_im/4.nii.gz       39.0  \n",
       "8  public-covid-data/rp_im/5.nii.gz       66.0  "
      ]
     },
     "execution_count": 43,
     "metadata": {},
     "output_type": "execute_result"
    }
   ],
   "source": [
    "df"
   ]
  },
  {
   "cell_type": "code",
   "execution_count": 50,
   "metadata": {},
   "outputs": [
    {
     "name": "stderr",
     "output_type": "stream",
     "text": [
      "/opt/anaconda3/lib/python3.8/site-packages/seaborn/distributions.py:2619: FutureWarning: `distplot` is a deprecated function and will be removed in a future version. Please adapt your code to use either `displot` (a figure-level function with similar flexibility) or `histplot` (an axes-level function for histograms).\n",
      "  warnings.warn(msg, FutureWarning)\n"
     ]
    },
    {
     "data": {
      "text/plain": [
       "<AxesSubplot:xlabel='slice_num', ylabel='Density'>"
      ]
     },
     "execution_count": 50,
     "metadata": {},
     "output_type": "execute_result"
    },
    {
     "data": {
      "image/png": "[encoded data removed]",
      "text/plain": [
       "<Figure size 432x288 with 1 Axes>"
      ]
     },
     "metadata": {},
     "output_type": "display_data"
    }
   ],
   "source": [
    "sns.distplot(df['slice_num'])"
   ]
  },
  {
   "cell_type": "markdown",
   "metadata": {},
   "source": [
    "## multiprocessing 並列処理"
   ]
  },
  {
   "cell_type": "code",
   "execution_count": 59,
   "metadata": {},
   "outputs": [],
   "source": [
    "from multiprocessing import Pool, cpu_count\n",
    "import time"
   ]
  },
  {
   "cell_type": "markdown",
   "metadata": {},
   "source": [
    "### map()\n",
    "multiprocessingで使う"
   ]
  },
  {
   "cell_type": "code",
   "execution_count": 53,
   "metadata": {},
   "outputs": [
    {
     "data": {
      "text/plain": [
       "[1, 4, 9, 16]"
      ]
     },
     "execution_count": 53,
     "metadata": {},
     "output_type": "execute_result"
    }
   ],
   "source": [
    "def square(n):\n",
    "    return n ** 2\n",
    "\n",
    "params = [1, 2, 3, 4]\n",
    "list(map(square, params))"
   ]
  },
  {
   "cell_type": "markdown",
   "metadata": {},
   "source": [
    "### Pool.map()とPool.imap()"
   ]
  },
  {
   "cell_type": "code",
   "execution_count": 56,
   "metadata": {},
   "outputs": [
    {
     "data": {
      "text/plain": [
       "12"
      ]
     },
     "execution_count": 56,
     "metadata": {},
     "output_type": "execute_result"
    }
   ],
   "source": [
    "# cpuの使える数を返す\n",
    "cpu_count()"
   ]
  },
  {
   "cell_type": "code",
   "execution_count": 60,
   "metadata": {},
   "outputs": [],
   "source": [
    "p = Pool(processes = cpu_count()-1)\n",
    "\n",
    "def wait_sec(sec):\n",
    "    time.sleep(sec)\n",
    "    return sec ** 2"
   ]
  },
  {
   "cell_type": "markdown",
   "metadata": {},
   "source": [
    "直列の場合"
   ]
  },
  {
   "cell_type": "code",
   "execution_count": 65,
   "metadata": {},
   "outputs": [
    {
     "name": "stdout",
     "output_type": "stream",
     "text": [
      "it took 9.00928521156311 sec\n"
     ]
    }
   ],
   "source": [
    "before = time.time()\n",
    "results = list(map(wait_sec, [1, 5, 3]))\n",
    "after = time.time()\n",
    "print('it took {} sec'.format(after - before))"
   ]
  },
  {
   "cell_type": "markdown",
   "metadata": {},
   "source": [
    "並列の場合"
   ]
  },
  {
   "cell_type": "code",
   "execution_count": 67,
   "metadata": {},
   "outputs": [
    {
     "name": "stdout",
     "output_type": "stream",
     "text": [
      "it took 5.006507158279419 sec\n"
     ]
    }
   ],
   "source": [
    "before = time.time()\n",
    "results = p.map(wait_sec, [1, 5, 3])\n",
    "after = time.time()\n",
    "print('it took {} sec'.format(after - before))"
   ]
  },
  {
   "cell_type": "markdown",
   "metadata": {},
   "source": [
    "imapの場合"
   ]
  },
  {
   "cell_type": "code",
   "execution_count": 69,
   "metadata": {},
   "outputs": [
    {
     "name": "stderr",
     "output_type": "stream",
     "text": [
      "100%|██████████| 3/3 [00:05<00:00,  1.67s/it]"
     ]
    },
    {
     "name": "stdout",
     "output_type": "stream",
     "text": [
      "it took 5.0082786083221436 sec\n"
     ]
    },
    {
     "name": "stderr",
     "output_type": "stream",
     "text": [
      "\n"
     ]
    }
   ],
   "source": [
    "before = time.time()\n",
    "results = list(tqdm(p.imap(wait_sec, [1, 5, 3]), total = 3))\n",
    "# for i in p.imap(wait_sec, [1, 5, 3]):\n",
    "#     print('{}: {} sec'.format(i, time.time() - before))\n",
    "after = time.time()\n",
    "print('it took {} sec'.format(after - before))"
   ]
  },
  {
   "cell_type": "code",
   "execution_count": 72,
   "metadata": {},
   "outputs": [
    {
     "name": "stdout",
     "output_type": "stream",
     "text": [
      "1: 1.001826524734497 sec\n",
      "9: 3.0041730403900146 sec\n",
      "25: 5.006042957305908 sec\n",
      "it took 5.006279230117798 sec\n"
     ]
    }
   ],
   "source": [
    "# p.imap_unordered()で処理が終わった順に表示\n",
    "before = time.time()\n",
    "for i in p.imap_unordered(wait_sec, [1, 5, 3]):\n",
    "    print('{}: {} sec'.format(i, time.time() - before))\n",
    "after = time.time()\n",
    "print('it took {} sec'.format(after - before))"
   ]
  },
  {
   "cell_type": "code",
   "execution_count": 75,
   "metadata": {},
   "outputs": [],
   "source": [
    "def multiply(a, b):\n",
    "    return a * b\n",
    "\n",
    "def wrap_multiply(args):\n",
    "    return multiply(*args)\n",
    "\n",
    "param1 = [1, 2, 3, 4]\n",
    "param2 = [10, 30, 70, 20]\n",
    "job_args = list(zip(param1, param2))\n",
    "# zip()関数で同じインデックスをタプルにしたリストを作成\n",
    "# [(1, 10), (2, 30), (3, 70), (4, 20)]\n",
    "\n",
    "p = Pool(processes=cpu_count()-1)\n",
    "results = list(p.imap(wrap_multiply, job_args))\n",
    "\n",
    "p.close()\n",
    "p.join()"
   ]
  },
  {
   "cell_type": "code",
   "execution_count": 76,
   "metadata": {},
   "outputs": [
    {
     "data": {
      "text/plain": [
       "[10, 60, 210, 80]"
      ]
     },
     "execution_count": 76,
     "metadata": {},
     "output_type": "execute_result"
    }
   ],
   "source": [
    "results"
   ]
  },
  {
   "cell_type": "markdown",
   "metadata": {},
   "source": [
    "## autoreload\n",
    "Pythonスクリプトを別ファイルに保存してJupyterで読み込むときに\n",
    "  \n",
    "**自動で別ファイルをリロードしてくれる**"
   ]
  },
  {
   "cell_type": "code",
   "execution_count": 80,
   "metadata": {},
   "outputs": [
    {
     "name": "stdout",
     "output_type": "stream",
     "text": [
      "The autoreload extension is already loaded. To reload it, use:\n",
      "  %reload_ext autoreload\n"
     ]
    }
   ],
   "source": [
    "%load_ext autoreload\n",
    "%autoreload 2\n",
    "# autoreload 2 で自動リロード\n",
    "\n",
    "from util import multiply2"
   ]
  },
  {
   "cell_type": "code",
   "execution_count": 82,
   "metadata": {},
   "outputs": [
    {
     "data": {
      "text/plain": [
       "6"
      ]
     },
     "execution_count": 82,
     "metadata": {},
     "output_type": "execute_result"
    }
   ],
   "source": [
    "multiply2(3,2)"
   ]
  }
 ],
 "metadata": {
  "interpreter": {
   "hash": "40d3a090f54c6569ab1632332b64b2c03c39dcf918b08424e98f38b5ae0af88f"
  },
  "kernelspec": {
   "display_name": "Python 3.8.8 ('base')",
   "language": "python",
   "name": "python3"
  },
  "language_info": {
   "codemirror_mode": {
    "name": "ipython",
    "version": 3
   },
   "file_extension": ".py",
   "mimetype": "text/x-python",
   "name": "python",
   "nbconvert_exporter": "python",
   "pygments_lexer": "ipython3",
   "version": "3.8.13"
  },
  "orig_nbformat": 4
 },
 "nbformat": 4,
 "nbformat_minor": 2
}
