{
 "cells": [
  {
   "cell_type": "markdown",
   "metadata": {},
   "source": [
    "Plotしてみる\n",
    "- 映画数の年推移\n",
    "  - xlabel = year\n",
    "  - ylabel = count\n",
    "- revenueの年推移（中央値、平均、最大値）\n",
    "  - xlabel = year\n",
    "  - ylabel = revenue"
   ]
  },
  {
   "cell_type": "code",
   "execution_count": 1,
   "metadata": {},
   "outputs": [],
   "source": [
    "import numpy as np\n",
    "import pandas as pd\n",
    "import matplotlib.pyplot as plt\n",
    "%matplotlib inline"
   ]
  },
  {
   "cell_type": "code",
   "execution_count": 2,
   "metadata": {},
   "outputs": [
    {
     "data": {
      "text/html": [
       "<div>\n",
       "<style scoped>\n",
       "    .dataframe tbody tr th:only-of-type {\n",
       "        vertical-align: middle;\n",
       "    }\n",
       "\n",
       "    .dataframe tbody tr th {\n",
       "        vertical-align: top;\n",
       "    }\n",
       "\n",
       "    .dataframe thead th {\n",
       "        text-align: right;\n",
       "    }\n",
       "</style>\n",
       "<table border=\"1\" class=\"dataframe\">\n",
       "  <thead>\n",
       "    <tr style=\"text-align: right;\">\n",
       "      <th></th>\n",
       "      <th>budget</th>\n",
       "      <th>genres</th>\n",
       "      <th>homepage</th>\n",
       "      <th>id</th>\n",
       "      <th>keywords</th>\n",
       "      <th>original_language</th>\n",
       "      <th>original_title</th>\n",
       "      <th>overview</th>\n",
       "      <th>popularity</th>\n",
       "      <th>production_companies</th>\n",
       "      <th>production_countries</th>\n",
       "      <th>release_date</th>\n",
       "      <th>revenue</th>\n",
       "      <th>runtime</th>\n",
       "      <th>spoken_languages</th>\n",
       "      <th>status</th>\n",
       "      <th>tagline</th>\n",
       "      <th>title</th>\n",
       "      <th>vote_average</th>\n",
       "      <th>vote_count</th>\n",
       "    </tr>\n",
       "  </thead>\n",
       "  <tbody>\n",
       "    <tr>\n",
       "      <th>0</th>\n",
       "      <td>237000000</td>\n",
       "      <td>[{\"id\": 28, \"name\": \"Action\"}, {\"id\": 12, \"nam...</td>\n",
       "      <td>http://www.avatarmovie.com/</td>\n",
       "      <td>19995</td>\n",
       "      <td>[{\"id\": 1463, \"name\": \"culture clash\"}, {\"id\":...</td>\n",
       "      <td>en</td>\n",
       "      <td>Avatar</td>\n",
       "      <td>In the 22nd century, a paraplegic Marine is di...</td>\n",
       "      <td>150.437577</td>\n",
       "      <td>[{\"name\": \"Ingenious Film Partners\", \"id\": 289...</td>\n",
       "      <td>[{\"iso_3166_1\": \"US\", \"name\": \"United States o...</td>\n",
       "      <td>2009-12-10</td>\n",
       "      <td>2787965087</td>\n",
       "      <td>162.0</td>\n",
       "      <td>[{\"iso_639_1\": \"en\", \"name\": \"English\"}, {\"iso...</td>\n",
       "      <td>Released</td>\n",
       "      <td>Enter the World of Pandora.</td>\n",
       "      <td>Avatar</td>\n",
       "      <td>7.2</td>\n",
       "      <td>11800</td>\n",
       "    </tr>\n",
       "    <tr>\n",
       "      <th>1</th>\n",
       "      <td>300000000</td>\n",
       "      <td>[{\"id\": 12, \"name\": \"Adventure\"}, {\"id\": 14, \"...</td>\n",
       "      <td>http://disney.go.com/disneypictures/pirates/</td>\n",
       "      <td>285</td>\n",
       "      <td>[{\"id\": 270, \"name\": \"ocean\"}, {\"id\": 726, \"na...</td>\n",
       "      <td>en</td>\n",
       "      <td>Pirates of the Caribbean: At World's End</td>\n",
       "      <td>Captain Barbossa, long believed to be dead, ha...</td>\n",
       "      <td>139.082615</td>\n",
       "      <td>[{\"name\": \"Walt Disney Pictures\", \"id\": 2}, {\"...</td>\n",
       "      <td>[{\"iso_3166_1\": \"US\", \"name\": \"United States o...</td>\n",
       "      <td>2007-05-19</td>\n",
       "      <td>961000000</td>\n",
       "      <td>169.0</td>\n",
       "      <td>[{\"iso_639_1\": \"en\", \"name\": \"English\"}]</td>\n",
       "      <td>Released</td>\n",
       "      <td>At the end of the world, the adventure begins.</td>\n",
       "      <td>Pirates of the Caribbean: At World's End</td>\n",
       "      <td>6.9</td>\n",
       "      <td>4500</td>\n",
       "    </tr>\n",
       "  </tbody>\n",
       "</table>\n",
       "</div>"
      ],
      "text/plain": [
       "      budget                                             genres  \\\n",
       "0  237000000  [{\"id\": 28, \"name\": \"Action\"}, {\"id\": 12, \"nam...   \n",
       "1  300000000  [{\"id\": 12, \"name\": \"Adventure\"}, {\"id\": 14, \"...   \n",
       "\n",
       "                                       homepage     id  \\\n",
       "0                   http://www.avatarmovie.com/  19995   \n",
       "1  http://disney.go.com/disneypictures/pirates/    285   \n",
       "\n",
       "                                            keywords original_language  \\\n",
       "0  [{\"id\": 1463, \"name\": \"culture clash\"}, {\"id\":...                en   \n",
       "1  [{\"id\": 270, \"name\": \"ocean\"}, {\"id\": 726, \"na...                en   \n",
       "\n",
       "                             original_title  \\\n",
       "0                                    Avatar   \n",
       "1  Pirates of the Caribbean: At World's End   \n",
       "\n",
       "                                            overview  popularity  \\\n",
       "0  In the 22nd century, a paraplegic Marine is di...  150.437577   \n",
       "1  Captain Barbossa, long believed to be dead, ha...  139.082615   \n",
       "\n",
       "                                production_companies  \\\n",
       "0  [{\"name\": \"Ingenious Film Partners\", \"id\": 289...   \n",
       "1  [{\"name\": \"Walt Disney Pictures\", \"id\": 2}, {\"...   \n",
       "\n",
       "                                production_countries release_date     revenue  \\\n",
       "0  [{\"iso_3166_1\": \"US\", \"name\": \"United States o...   2009-12-10  2787965087   \n",
       "1  [{\"iso_3166_1\": \"US\", \"name\": \"United States o...   2007-05-19   961000000   \n",
       "\n",
       "   runtime                                   spoken_languages    status  \\\n",
       "0    162.0  [{\"iso_639_1\": \"en\", \"name\": \"English\"}, {\"iso...  Released   \n",
       "1    169.0           [{\"iso_639_1\": \"en\", \"name\": \"English\"}]  Released   \n",
       "\n",
       "                                          tagline  \\\n",
       "0                     Enter the World of Pandora.   \n",
       "1  At the end of the world, the adventure begins.   \n",
       "\n",
       "                                      title  vote_average  vote_count  \n",
       "0                                    Avatar           7.2       11800  \n",
       "1  Pirates of the Caribbean: At World's End           6.9        4500  "
      ]
     },
     "execution_count": 2,
     "metadata": {},
     "output_type": "execute_result"
    }
   ],
   "source": [
    "# データセットの読み込み\n",
    "df = pd.read_csv('dataset/tmdb_5000_movies.csv')\n",
    "df.head(2)"
   ]
  },
  {
   "cell_type": "code",
   "execution_count": 4,
   "metadata": {},
   "outputs": [],
   "source": [
    "# release_date から yearを作成\n",
    "df['year'] = pd.to_datetime(df['release_date'])\n",
    "df['year'] = df['year'].dt.year"
   ]
  },
  {
   "cell_type": "code",
   "execution_count": 5,
   "metadata": {},
   "outputs": [
    {
     "data": {
      "text/plain": [
       "4802"
      ]
     },
     "execution_count": 5,
     "metadata": {},
     "output_type": "execute_result"
    }
   ],
   "source": [
    "# year に 0があればNanに置換。その後Nanを除去\n",
    "df['year'] = df['year'].apply(lambda x: np.nan if x == 0 else x)\n",
    "df = df.dropna(subset=['year'])\n",
    "len(df)"
   ]
  },
  {
   "cell_type": "markdown",
   "metadata": {},
   "source": [
    "## 1. 映画数の年推移"
   ]
  },
  {
   "cell_type": "code",
   "execution_count": 9,
   "metadata": {},
   "outputs": [
    {
     "data": {
      "text/plain": [
       "Text(0, 0.5, 'count')"
      ]
     },
     "execution_count": 9,
     "metadata": {},
     "output_type": "execute_result"
    },
    {
     "data": {
      "image/png": "[encoded data removed]",
      "text/plain": [
       "<Figure size 432x288 with 1 Axes>"
      ]
     },
     "metadata": {
      "needs_background": "light"
     },
     "output_type": "display_data"
    }
   ],
   "source": [
    "plt.plot(df.groupby('year')['id'].count())\n",
    "plt.xlabel('year')\n",
    "plt.ylabel('count')"
   ]
  },
  {
   "cell_type": "markdown",
   "metadata": {},
   "source": [
    "## 2. revenueの年推移（中央値、平均、最大値）"
   ]
  },
  {
   "cell_type": "code",
   "execution_count": 10,
   "metadata": {},
   "outputs": [
    {
     "name": "stderr",
     "output_type": "stream",
     "text": [
      "<ipython-input-10-43b875a4afa6>:2: SettingWithCopyWarning: \n",
      "A value is trying to be set on a copy of a slice from a DataFrame.\n",
      "Try using .loc[row_indexer,col_indexer] = value instead\n",
      "\n",
      "See the caveats in the documentation: https://pandas.pydata.org/pandas-docs/stable/user_guide/indexing.html#returning-a-view-versus-a-copy\n",
      "  df['revenue'] = df['revenue'].apply(lambda x: np.nan if x == 0 else x)\n"
     ]
    }
   ],
   "source": [
    "# revenue が 0のものをNanにして除去\n",
    "df['revenue'] = df['revenue'].apply(lambda x: np.nan if x == 0 else x)\n",
    "df = df.dropna(subset=['revenue'])"
   ]
  },
  {
   "cell_type": "markdown",
   "metadata": {},
   "source": [
    "df = df[df['revenue'] != 0] の方がシンプル"
   ]
  },
  {
   "cell_type": "code",
   "execution_count": 16,
   "metadata": {},
   "outputs": [
    {
     "data": {
      "text/html": [
       "<div>\n",
       "<style scoped>\n",
       "    .dataframe tbody tr th:only-of-type {\n",
       "        vertical-align: middle;\n",
       "    }\n",
       "\n",
       "    .dataframe tbody tr th {\n",
       "        vertical-align: top;\n",
       "    }\n",
       "\n",
       "    .dataframe thead th {\n",
       "        text-align: right;\n",
       "    }\n",
       "</style>\n",
       "<table border=\"1\" class=\"dataframe\">\n",
       "  <thead>\n",
       "    <tr style=\"text-align: right;\">\n",
       "      <th></th>\n",
       "      <th>count</th>\n",
       "      <th>mean</th>\n",
       "      <th>std</th>\n",
       "      <th>min</th>\n",
       "      <th>25%</th>\n",
       "      <th>50%</th>\n",
       "      <th>75%</th>\n",
       "      <th>max</th>\n",
       "      <th>median</th>\n",
       "    </tr>\n",
       "    <tr>\n",
       "      <th>year</th>\n",
       "      <th></th>\n",
       "      <th></th>\n",
       "      <th></th>\n",
       "      <th></th>\n",
       "      <th></th>\n",
       "      <th></th>\n",
       "      <th></th>\n",
       "      <th></th>\n",
       "      <th></th>\n",
       "    </tr>\n",
       "  </thead>\n",
       "  <tbody>\n",
       "    <tr>\n",
       "      <th>1916.0</th>\n",
       "      <td>1.0</td>\n",
       "      <td>8.394751e+06</td>\n",
       "      <td>NaN</td>\n",
       "      <td>8394751.0</td>\n",
       "      <td>8394751.0</td>\n",
       "      <td>8394751.0</td>\n",
       "      <td>8.394751e+06</td>\n",
       "      <td>8.394751e+06</td>\n",
       "      <td>8394751.0</td>\n",
       "    </tr>\n",
       "    <tr>\n",
       "      <th>1925.0</th>\n",
       "      <td>1.0</td>\n",
       "      <td>2.200000e+07</td>\n",
       "      <td>NaN</td>\n",
       "      <td>22000000.0</td>\n",
       "      <td>22000000.0</td>\n",
       "      <td>22000000.0</td>\n",
       "      <td>2.200000e+07</td>\n",
       "      <td>2.200000e+07</td>\n",
       "      <td>22000000.0</td>\n",
       "    </tr>\n",
       "    <tr>\n",
       "      <th>1927.0</th>\n",
       "      <td>1.0</td>\n",
       "      <td>6.504220e+05</td>\n",
       "      <td>NaN</td>\n",
       "      <td>650422.0</td>\n",
       "      <td>650422.0</td>\n",
       "      <td>650422.0</td>\n",
       "      <td>6.504220e+05</td>\n",
       "      <td>6.504220e+05</td>\n",
       "      <td>650422.0</td>\n",
       "    </tr>\n",
       "    <tr>\n",
       "      <th>1929.0</th>\n",
       "      <td>1.0</td>\n",
       "      <td>4.358000e+06</td>\n",
       "      <td>NaN</td>\n",
       "      <td>4358000.0</td>\n",
       "      <td>4358000.0</td>\n",
       "      <td>4358000.0</td>\n",
       "      <td>4.358000e+06</td>\n",
       "      <td>4.358000e+06</td>\n",
       "      <td>4358000.0</td>\n",
       "    </tr>\n",
       "    <tr>\n",
       "      <th>1930.0</th>\n",
       "      <td>1.0</td>\n",
       "      <td>8.000000e+06</td>\n",
       "      <td>NaN</td>\n",
       "      <td>8000000.0</td>\n",
       "      <td>8000000.0</td>\n",
       "      <td>8000000.0</td>\n",
       "      <td>8.000000e+06</td>\n",
       "      <td>8.000000e+06</td>\n",
       "      <td>8000000.0</td>\n",
       "    </tr>\n",
       "    <tr>\n",
       "      <th>...</th>\n",
       "      <td>...</td>\n",
       "      <td>...</td>\n",
       "      <td>...</td>\n",
       "      <td>...</td>\n",
       "      <td>...</td>\n",
       "      <td>...</td>\n",
       "      <td>...</td>\n",
       "      <td>...</td>\n",
       "      <td>...</td>\n",
       "    </tr>\n",
       "    <tr>\n",
       "      <th>2012.0</th>\n",
       "      <td>150.0</td>\n",
       "      <td>1.609447e+08</td>\n",
       "      <td>2.489353e+08</td>\n",
       "      <td>126.0</td>\n",
       "      <td>17175919.5</td>\n",
       "      <td>64793040.0</td>\n",
       "      <td>1.823324e+08</td>\n",
       "      <td>1.519558e+09</td>\n",
       "      <td>64793040.0</td>\n",
       "    </tr>\n",
       "    <tr>\n",
       "      <th>2013.0</th>\n",
       "      <td>163.0</td>\n",
       "      <td>1.436288e+08</td>\n",
       "      <td>2.209237e+08</td>\n",
       "      <td>11.0</td>\n",
       "      <td>18368283.0</td>\n",
       "      <td>63464861.0</td>\n",
       "      <td>1.513970e+08</td>\n",
       "      <td>1.274219e+09</td>\n",
       "      <td>63464861.0</td>\n",
       "    </tr>\n",
       "    <tr>\n",
       "      <th>2014.0</th>\n",
       "      <td>143.0</td>\n",
       "      <td>1.686748e+08</td>\n",
       "      <td>2.183760e+08</td>\n",
       "      <td>32251.0</td>\n",
       "      <td>28857328.0</td>\n",
       "      <td>80383290.0</td>\n",
       "      <td>2.191694e+08</td>\n",
       "      <td>1.091405e+09</td>\n",
       "      <td>80383290.0</td>\n",
       "    </tr>\n",
       "    <tr>\n",
       "      <th>2015.0</th>\n",
       "      <td>126.0</td>\n",
       "      <td>1.807542e+08</td>\n",
       "      <td>2.850610e+08</td>\n",
       "      <td>3330.0</td>\n",
       "      <td>27292155.0</td>\n",
       "      <td>84769058.0</td>\n",
       "      <td>1.919204e+08</td>\n",
       "      <td>1.513529e+09</td>\n",
       "      <td>84769058.0</td>\n",
       "    </tr>\n",
       "    <tr>\n",
       "      <th>2016.0</th>\n",
       "      <td>73.0</td>\n",
       "      <td>1.980980e+08</td>\n",
       "      <td>2.502681e+08</td>\n",
       "      <td>1333124.0</td>\n",
       "      <td>40423945.0</td>\n",
       "      <td>108286421.0</td>\n",
       "      <td>2.291475e+08</td>\n",
       "      <td>1.153304e+09</td>\n",
       "      <td>108286421.0</td>\n",
       "    </tr>\n",
       "  </tbody>\n",
       "</table>\n",
       "<p>89 rows × 9 columns</p>\n",
       "</div>"
      ],
      "text/plain": [
       "        count          mean           std         min         25%  \\\n",
       "year                                                                \n",
       "1916.0    1.0  8.394751e+06           NaN   8394751.0   8394751.0   \n",
       "1925.0    1.0  2.200000e+07           NaN  22000000.0  22000000.0   \n",
       "1927.0    1.0  6.504220e+05           NaN    650422.0    650422.0   \n",
       "1929.0    1.0  4.358000e+06           NaN   4358000.0   4358000.0   \n",
       "1930.0    1.0  8.000000e+06           NaN   8000000.0   8000000.0   \n",
       "...       ...           ...           ...         ...         ...   \n",
       "2012.0  150.0  1.609447e+08  2.489353e+08       126.0  17175919.5   \n",
       "2013.0  163.0  1.436288e+08  2.209237e+08        11.0  18368283.0   \n",
       "2014.0  143.0  1.686748e+08  2.183760e+08     32251.0  28857328.0   \n",
       "2015.0  126.0  1.807542e+08  2.850610e+08      3330.0  27292155.0   \n",
       "2016.0   73.0  1.980980e+08  2.502681e+08   1333124.0  40423945.0   \n",
       "\n",
       "                50%           75%           max       median  \n",
       "year                                                          \n",
       "1916.0    8394751.0  8.394751e+06  8.394751e+06    8394751.0  \n",
       "1925.0   22000000.0  2.200000e+07  2.200000e+07   22000000.0  \n",
       "1927.0     650422.0  6.504220e+05  6.504220e+05     650422.0  \n",
       "1929.0    4358000.0  4.358000e+06  4.358000e+06    4358000.0  \n",
       "1930.0    8000000.0  8.000000e+06  8.000000e+06    8000000.0  \n",
       "...             ...           ...           ...          ...  \n",
       "2012.0   64793040.0  1.823324e+08  1.519558e+09   64793040.0  \n",
       "2013.0   63464861.0  1.513970e+08  1.274219e+09   63464861.0  \n",
       "2014.0   80383290.0  2.191694e+08  1.091405e+09   80383290.0  \n",
       "2015.0   84769058.0  1.919204e+08  1.513529e+09   84769058.0  \n",
       "2016.0  108286421.0  2.291475e+08  1.153304e+09  108286421.0  \n",
       "\n",
       "[89 rows x 9 columns]"
      ]
     },
     "execution_count": 16,
     "metadata": {},
     "output_type": "execute_result"
    }
   ],
   "source": [
    "# 統計量を計算\n",
    "df_revenue_described = df.groupby('year').describe()['revenue']\n",
    "df_revenue_described['median'] = df.groupby('year')['revenue'].median()\n",
    "df_revenue_described"
   ]
  },
  {
   "cell_type": "code",
   "execution_count": 17,
   "metadata": {},
   "outputs": [
    {
     "data": {
      "text/plain": [
       "Text(0, 0.5, 'revenue')"
      ]
     },
     "execution_count": 17,
     "metadata": {},
     "output_type": "execute_result"
    },
    {
     "data": {
      "image/png": "[encoded data removed]",
      "text/plain": [
       "<Figure size 432x288 with 1 Axes>"
      ]
     },
     "metadata": {
      "needs_background": "light"
     },
     "output_type": "display_data"
    }
   ],
   "source": [
    "plt.plot('median', data=df_revenue_described)\n",
    "plt.plot('mean', data=df_revenue_described)\n",
    "plt.plot('max', data=df_revenue_described)\n",
    "plt.legend()\n",
    "plt.xlabel('year')\n",
    "plt.ylabel('revenue')"
   ]
  }
 ],
 "metadata": {
  "interpreter": {
   "hash": "40d3a090f54c6569ab1632332b64b2c03c39dcf918b08424e98f38b5ae0af88f"
  },
  "kernelspec": {
   "display_name": "Python 3.8.8 ('base')",
   "language": "python",
   "name": "python3"
  },
  "language_info": {
   "codemirror_mode": {
    "name": "ipython",
    "version": 3
   },
   "file_extension": ".py",
   "mimetype": "text/x-python",
   "name": "python",
   "nbconvert_exporter": "python",
   "pygments_lexer": "ipython3",
   "version": "3.8.8"
  },
  "orig_nbformat": 4
 },
 "nbformat": 4,
 "nbformat_minor": 2
}
