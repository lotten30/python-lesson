{
 "cells": [
  {
   "cell_type": "markdown",
   "id": "acdba263-94e3-4a94-a4ea-9c0a3cbef0c6",
   "metadata": {},
   "source": [
    "[markdown記法](https://qiita.com/tbpgr/items/989c6badefff69377da7)"
   ]
  },
  {
   "cell_type": "markdown",
   "id": "5d2b4d4b-c837-4730-b0ef-4f5e491233ed",
   "metadata": {},
   "source": [
    "## Numbers"
   ]
  },
  {
   "cell_type": "code",
   "execution_count": 1,
   "id": "d3a18676-4c43-4d13-a0a8-c0b0793f511f",
   "metadata": {},
   "outputs": [
    {
     "data": {
      "text/plain": [
       "int"
      ]
     },
     "execution_count": 1,
     "metadata": {},
     "output_type": "execute_result"
    }
   ],
   "source": [
    "type(3)"
   ]
  },
  {
   "cell_type": "code",
   "execution_count": 2,
   "id": "c1b98707-a8c1-4581-a277-819eb5a554b2",
   "metadata": {},
   "outputs": [
    {
     "data": {
      "text/plain": [
       "float"
      ]
     },
     "execution_count": 2,
     "metadata": {},
     "output_type": "execute_result"
    }
   ],
   "source": [
    "type(1.0)"
   ]
  },
  {
   "cell_type": "code",
   "execution_count": 3,
   "id": "129a4245-5827-4f40-add7-7324306591a7",
   "metadata": {},
   "outputs": [
    {
     "data": {
      "text/plain": [
       "complex"
      ]
     },
     "execution_count": 3,
     "metadata": {},
     "output_type": "execute_result"
    }
   ],
   "source": [
    "type(3.14j)"
   ]
  },
  {
   "cell_type": "code",
   "execution_count": 4,
   "id": "c9d93318-f7c2-4cc4-bfe8-b8bda4bc27bc",
   "metadata": {},
   "outputs": [
    {
     "data": {
      "text/plain": [
       "int"
      ]
     },
     "execution_count": 4,
     "metadata": {},
     "output_type": "execute_result"
    }
   ],
   "source": [
    "type(1 + 1)"
   ]
  },
  {
   "cell_type": "code",
   "execution_count": 5,
   "id": "0d50ab9e-b5cc-4607-8e80-775aee086bfe",
   "metadata": {},
   "outputs": [
    {
     "data": {
      "text/plain": [
       "True"
      ]
     },
     "execution_count": 5,
     "metadata": {},
     "output_type": "execute_result"
    }
   ],
   "source": [
    "1 == 1.0"
   ]
  },
  {
   "cell_type": "code",
   "execution_count": 6,
   "id": "e2a3745b-100b-4472-891b-f29a434d90bc",
   "metadata": {},
   "outputs": [
    {
     "data": {
      "text/plain": [
       "0.1"
      ]
     },
     "execution_count": 6,
     "metadata": {},
     "output_type": "execute_result"
    }
   ],
   "source": [
    "1e-1"
   ]
  },
  {
   "cell_type": "markdown",
   "id": "093590c6-2540-4ed9-80df-04c32d725e9b",
   "metadata": {},
   "source": [
    "## Strings"
   ]
  },
  {
   "cell_type": "code",
   "execution_count": 9,
   "id": "312a0aac-7973-4938-b7b2-45528b0d824f",
   "metadata": {},
   "outputs": [
    {
     "data": {
      "text/plain": [
       "'el'"
      ]
     },
     "execution_count": 9,
     "metadata": {},
     "output_type": "execute_result"
    }
   ],
   "source": [
    "\"hello\"[1:3]"
   ]
  },
  {
   "cell_type": "code",
   "execution_count": 14,
   "id": "92bf8892-0222-4b72-a95f-9a755be7110b",
   "metadata": {},
   "outputs": [
    {
     "data": {
      "text/plain": [
       "'fileID'"
      ]
     },
     "execution_count": 14,
     "metadata": {},
     "output_type": "execute_result"
    }
   ],
   "source": [
    "\"fileID.png\"[:-4]"
   ]
  },
  {
   "cell_type": "code",
   "execution_count": 15,
   "id": "644ffe31-5e3f-4ae2-ab21-52cf6f2ecd52",
   "metadata": {},
   "outputs": [
    {
     "data": {
      "text/plain": [
       "'hello world'"
      ]
     },
     "execution_count": 15,
     "metadata": {},
     "output_type": "execute_result"
    }
   ],
   "source": [
    "\"hello {}\".format(\"world\")"
   ]
  },
  {
   "cell_type": "code",
   "execution_count": 16,
   "id": "4d661539-d0d8-4348-91cb-de8db0528136",
   "metadata": {},
   "outputs": [
    {
     "data": {
      "text/plain": [
       "'helloworld'"
      ]
     },
     "execution_count": 16,
     "metadata": {},
     "output_type": "execute_result"
    }
   ],
   "source": [
    "\"hello\" + \"world\""
   ]
  },
  {
   "cell_type": "code",
   "execution_count": 19,
   "id": "39607933-4737-4b7a-a45f-5fe020f857ad",
   "metadata": {},
   "outputs": [
    {
     "data": {
      "text/plain": [
       "'12345_6.csv'"
      ]
     },
     "execution_count": 19,
     "metadata": {},
     "output_type": "execute_result"
    }
   ],
   "source": [
    "patient_id = \"12345\"\n",
    "number = \"6\"\n",
    "file_name = patient_id + \"_\" + number + \".csv\"\n",
    "file_name"
   ]
  },
  {
   "cell_type": "code",
   "execution_count": 21,
   "id": "a0bf3ed4-de88-4e26-a8d5-c0a7b353558d",
   "metadata": {},
   "outputs": [
    {
     "data": {
      "text/plain": [
       "'12345_6.csv'"
      ]
     },
     "execution_count": 21,
     "metadata": {},
     "output_type": "execute_result"
    }
   ],
   "source": [
    "file_name = \"{}_{}.csv\".format(patient_id, number)\n",
    "file_name"
   ]
  },
  {
   "cell_type": "code",
   "execution_count": 23,
   "id": "f1b239e5-527c-4c39-85a3-a1c4a7310268",
   "metadata": {},
   "outputs": [
    {
     "data": {
      "text/plain": [
       "['hell', ' w', 'rld']"
      ]
     },
     "execution_count": 23,
     "metadata": {},
     "output_type": "execute_result"
    }
   ],
   "source": [
    "\"hello world\".split(\"o\")"
   ]
  },
  {
   "cell_type": "code",
   "execution_count": 24,
   "id": "b0c12f45-19dc-4875-aaa9-af02779dba6b",
   "metadata": {},
   "outputs": [
    {
     "data": {
      "text/plain": [
       "['12345_6', 'csv']"
      ]
     },
     "execution_count": 24,
     "metadata": {},
     "output_type": "execute_result"
    }
   ],
   "source": [
    "file_name.split(\".\")"
   ]
  },
  {
   "cell_type": "code",
   "execution_count": 25,
   "id": "b3b267f3-d6fd-4d80-8eb7-ac11e476ac87",
   "metadata": {},
   "outputs": [
    {
     "data": {
      "text/plain": [
       "'hello world'"
      ]
     },
     "execution_count": 25,
     "metadata": {},
     "output_type": "execute_result"
    }
   ],
   "source": [
    "\" \".join([\"hello\", \"world\"])"
   ]
  },
  {
   "cell_type": "markdown",
   "id": "d427cde2-70d0-4eac-ba6a-c2a7a4a802e8",
   "metadata": {},
   "source": [
    "## Lists"
   ]
  },
  {
   "cell_type": "code",
   "execution_count": 27,
   "id": "68fe97d4-e99b-4023-a7ec-dfe2bb91b465",
   "metadata": {},
   "outputs": [
    {
     "data": {
      "text/plain": [
       "[1, 2, 3]"
      ]
     },
     "execution_count": 27,
     "metadata": {},
     "output_type": "execute_result"
    }
   ],
   "source": [
    "list1 = [1, 2, 3]\n",
    "list1"
   ]
  },
  {
   "cell_type": "code",
   "execution_count": 30,
   "id": "8b80359c-fe65-474b-a7d3-8e3fa87ef7e4",
   "metadata": {},
   "outputs": [],
   "source": [
    "list2 = [\"one\", \"two\"]\n",
    "list1.append(list2)"
   ]
  },
  {
   "cell_type": "code",
   "execution_count": 32,
   "id": "4c0a8491-36ec-4e49-995c-7e172920e962",
   "metadata": {},
   "outputs": [
    {
     "data": {
      "text/plain": [
       "['one', 'two']"
      ]
     },
     "execution_count": 32,
     "metadata": {},
     "output_type": "execute_result"
    }
   ],
   "source": [
    "list1[3]"
   ]
  },
  {
   "cell_type": "markdown",
   "id": "751d46f7-10b0-4758-82d1-c80c369217ca",
   "metadata": {},
   "source": [
    "## Dictionary"
   ]
  },
  {
   "cell_type": "code",
   "execution_count": 147,
   "id": "2593a789-70a7-40e7-a96f-1c2ffc24a6cb",
   "metadata": {},
   "outputs": [
    {
     "data": {
      "text/plain": [
       "'value1'"
      ]
     },
     "execution_count": 147,
     "metadata": {},
     "output_type": "execute_result"
    }
   ],
   "source": [
    "dict1 = {\"key1\": \"value1\", \"key2\": \"2\", 3: \"value3\"}\n",
    "\n",
    "dict1[\"key1\"]"
   ]
  },
  {
   "cell_type": "code",
   "execution_count": 148,
   "id": "b4bd47c4-02f3-4f94-a396-37b60b705c61",
   "metadata": {},
   "outputs": [
    {
     "data": {
      "text/plain": [
       "{'key1': 'value1 updated', 'key2': '2', 3: 'value3', 'key4': 'value4'}"
      ]
     },
     "execution_count": 148,
     "metadata": {},
     "output_type": "execute_result"
    }
   ],
   "source": [
    "dict1[\"key4\"] = \"value4\"\n",
    "\n",
    "dict1[\"key1\"] = \"value1 updated\"\n",
    "\n",
    "dict1"
   ]
  },
  {
   "cell_type": "code",
   "execution_count": 43,
   "id": "dafa9781-cf10-4bd7-8ce9-6e48535e86f9",
   "metadata": {},
   "outputs": [
    {
     "data": {
      "text/plain": [
       "dict_keys(['key1', 'key2', 3, 'key4'])"
      ]
     },
     "execution_count": 43,
     "metadata": {},
     "output_type": "execute_result"
    }
   ],
   "source": [
    "dict1.keys()"
   ]
  },
  {
   "cell_type": "code",
   "execution_count": 44,
   "id": "21febc17-f89b-4cf4-9d0a-c5a1ec65af8a",
   "metadata": {},
   "outputs": [
    {
     "data": {
      "text/plain": [
       "dict_values(['value1 updated', '2', 'value3', 'value4'])"
      ]
     },
     "execution_count": 44,
     "metadata": {},
     "output_type": "execute_result"
    }
   ],
   "source": [
    "dict1.values()"
   ]
  },
  {
   "cell_type": "markdown",
   "id": "beb5fc1a-df0b-432e-9c3e-bb51c3f69b83",
   "metadata": {},
   "source": [
    "## Boolean"
   ]
  },
  {
   "cell_type": "code",
   "execution_count": 48,
   "id": "58fd17f2-9fc3-4f3c-81b6-7ceae553145d",
   "metadata": {},
   "outputs": [
    {
     "data": {
      "text/plain": [
       "True"
      ]
     },
     "execution_count": 48,
     "metadata": {},
     "output_type": "execute_result"
    }
   ],
   "source": [
    "True"
   ]
  },
  {
   "cell_type": "code",
   "execution_count": 49,
   "id": "414e907e-79b0-478b-8f4b-14f4367203a4",
   "metadata": {},
   "outputs": [
    {
     "data": {
      "text/plain": [
       "False"
      ]
     },
     "execution_count": 49,
     "metadata": {},
     "output_type": "execute_result"
    }
   ],
   "source": [
    "False"
   ]
  },
  {
   "cell_type": "markdown",
   "id": "63bd115b-ec5f-47e8-9e8e-225337c990c2",
   "metadata": {},
   "source": [
    "## Tuples"
   ]
  },
  {
   "cell_type": "code",
   "execution_count": 50,
   "id": "37f7805b-c518-470d-942f-034d0b2275d3",
   "metadata": {},
   "outputs": [],
   "source": [
    "tuple1 = (1, 2, 3)"
   ]
  },
  {
   "cell_type": "code",
   "execution_count": 51,
   "id": "71aeba21-6a69-413c-9457-5378d9809a99",
   "metadata": {},
   "outputs": [
    {
     "data": {
      "text/plain": [
       "(1, 2, 3)"
      ]
     },
     "execution_count": 51,
     "metadata": {},
     "output_type": "execute_result"
    }
   ],
   "source": [
    "tuple1"
   ]
  },
  {
   "cell_type": "markdown",
   "id": "048a5fe6-a7a4-450c-8913-9de2ecb2407f",
   "metadata": {},
   "source": [
    "## Set"
   ]
  },
  {
   "cell_type": "code",
   "execution_count": 52,
   "id": "7c9fde0c-7c1c-4b30-938d-2595eb1efbc6",
   "metadata": {},
   "outputs": [],
   "source": [
    "set1 = {1, 1, 2, 2, 3, 3}"
   ]
  },
  {
   "cell_type": "code",
   "execution_count": 53,
   "id": "a2b190bb-56ae-4c09-a76f-55f4ed83d6a4",
   "metadata": {},
   "outputs": [
    {
     "data": {
      "text/plain": [
       "{1, 2, 3}"
      ]
     },
     "execution_count": 53,
     "metadata": {},
     "output_type": "execute_result"
    }
   ],
   "source": [
    "set1"
   ]
  },
  {
   "cell_type": "markdown",
   "id": "977bd9a9-303a-4909-802b-e3892ea265f8",
   "metadata": {},
   "source": [
    "## Casting\n"
   ]
  },
  {
   "cell_type": "code",
   "execution_count": 54,
   "id": "cd2189eb-aa6a-48ed-90e9-41287e28764d",
   "metadata": {},
   "outputs": [
    {
     "data": {
      "text/plain": [
       "1"
      ]
     },
     "execution_count": 54,
     "metadata": {},
     "output_type": "execute_result"
    }
   ],
   "source": [
    "int(1.0)"
   ]
  },
  {
   "cell_type": "code",
   "execution_count": 55,
   "id": "dd4d997c-3d0e-4a7b-856c-838cc629e17d",
   "metadata": {},
   "outputs": [
    {
     "data": {
      "text/plain": [
       "1.0"
      ]
     },
     "execution_count": 55,
     "metadata": {},
     "output_type": "execute_result"
    }
   ],
   "source": [
    "float(1)"
   ]
  },
  {
   "cell_type": "code",
   "execution_count": 56,
   "id": "c1fd40da-0205-4be3-a03c-e539ada7d9df",
   "metadata": {},
   "outputs": [
    {
     "data": {
      "text/plain": [
       "False"
      ]
     },
     "execution_count": 56,
     "metadata": {},
     "output_type": "execute_result"
    }
   ],
   "source": [
    "bool(0)"
   ]
  },
  {
   "cell_type": "code",
   "execution_count": 59,
   "id": "590bb8a3-a7bc-4850-94a4-b189b96224f2",
   "metadata": {},
   "outputs": [
    {
     "data": {
      "text/plain": [
       "['h', 'e', 'l', 'l', 'o']"
      ]
     },
     "execution_count": 59,
     "metadata": {},
     "output_type": "execute_result"
    }
   ],
   "source": [
    "list(\"hello\")"
   ]
  },
  {
   "cell_type": "code",
   "execution_count": 60,
   "id": "4c763cce-81e4-4d08-a243-fd16417c0a20",
   "metadata": {},
   "outputs": [
    {
     "data": {
      "text/plain": [
       "{1, 2, 3, 4}"
      ]
     },
     "execution_count": 60,
     "metadata": {},
     "output_type": "execute_result"
    }
   ],
   "source": [
    "list1 = [1, 2, 2, 3, 3, 4, 4]\n",
    "set(list1)"
   ]
  },
  {
   "cell_type": "markdown",
   "id": "4a9c2f16-6a14-4c55-abfd-e566733be537",
   "metadata": {},
   "source": [
    "# 演算子"
   ]
  },
  {
   "cell_type": "code",
   "execution_count": 2,
   "id": "95878360-e48f-4e66-865e-d4c70592c015",
   "metadata": {},
   "outputs": [
    {
     "data": {
      "text/plain": [
       "True"
      ]
     },
     "execution_count": 2,
     "metadata": {},
     "output_type": "execute_result"
    }
   ],
   "source": [
    "'h' in 'hello'"
   ]
  },
  {
   "cell_type": "code",
   "execution_count": 3,
   "id": "11ef4d4a-4355-4ffa-b596-eead2d148b74",
   "metadata": {},
   "outputs": [
    {
     "data": {
      "text/plain": [
       "False"
      ]
     },
     "execution_count": 3,
     "metadata": {},
     "output_type": "execute_result"
    }
   ],
   "source": [
    "'t' in 'hello'"
   ]
  },
  {
   "cell_type": "code",
   "execution_count": 4,
   "id": "37032ab7-d626-49df-8b75-e73fb3b75f27",
   "metadata": {},
   "outputs": [
    {
     "data": {
      "text/plain": [
       "False"
      ]
     },
     "execution_count": 4,
     "metadata": {},
     "output_type": "execute_result"
    }
   ],
   "source": [
    "'a' in ['h', 'e', 'l', 'o']"
   ]
  },
  {
   "cell_type": "code",
   "execution_count": 5,
   "id": "ee35e5d7-6f1d-42d1-9d08-abf6f823a77f",
   "metadata": {},
   "outputs": [
    {
     "data": {
      "text/plain": [
       "True"
      ]
     },
     "execution_count": 5,
     "metadata": {},
     "output_type": "execute_result"
    }
   ],
   "source": [
    "'l' in ['h', 'e', 'l', 'o']"
   ]
  },
  {
   "cell_type": "markdown",
   "id": "54119c1c-a902-4d43-96a1-4d154e726b0a",
   "metadata": {},
   "source": [
    "# if文"
   ]
  },
  {
   "cell_type": "code",
   "execution_count": 21,
   "id": "3910dd8e-3527-4690-886a-c17b144b64d1",
   "metadata": {},
   "outputs": [
    {
     "name": "stdout",
     "output_type": "stream",
     "text": [
      "a is 1\n"
     ]
    }
   ],
   "source": [
    "a = 1\n",
    "if a == 1:\n",
    "    print('a is 1')"
   ]
  },
  {
   "cell_type": "code",
   "execution_count": null,
   "id": "a3bd500c-c630-46d2-947e-131128042fc5",
   "metadata": {},
   "outputs": [
    {
     "name": "stdout",
     "output_type": "stream",
     "text": [
      "a is 1\n"
     ]
    }
   ],
   "source": [
    "# 1行での書き方はlambda関数以外では推奨されない\n",
    "print('a is 1') if a == 1 else print('a is NOT 1')"
   ]
  },
  {
   "cell_type": "markdown",
   "id": "bb935196-6ab4-46be-b4c3-d900a74dd75b",
   "metadata": {},
   "source": [
    "# Loop処理"
   ]
  },
  {
   "cell_type": "markdown",
   "id": "a300b49c-ee8e-4c2a-811e-92fe67cf6419",
   "metadata": {},
   "source": [
    "### for文"
   ]
  },
  {
   "cell_type": "code",
   "execution_count": null,
   "id": "5ed31ff0-d7b4-4f16-8a76-1f61e4656024",
   "metadata": {},
   "outputs": [
    {
     "name": "stdout",
     "output_type": "stream",
     "text": [
      "red is NOT my favorite\n",
      "blue is my favorite\n",
      "green is NOT my favorite\n",
      "yellow is NOT my favorite\n",
      "white is NOT my favorite\n"
     ]
    }
   ],
   "source": [
    "colors = ['red', 'blue', 'green', 'yellow', 'white']\n",
    "for color in colors:\n",
    "    favorite_color = 'blue'\n",
    "    if color == favorite_color:\n",
    "        print('{} is my favorite'.format(color))\n",
    "    else:\n",
    "        print('{} is NOT my favorite'.format(color))"
   ]
  },
  {
   "cell_type": "code",
   "execution_count": null,
   "id": "ae45a283-3651-4891-b7f6-7cf5e3ee5cd5",
   "metadata": {},
   "outputs": [
    {
     "name": "stdout",
     "output_type": "stream",
     "text": [
      "0\n",
      "1\n",
      "2\n",
      "3\n",
      "4\n",
      "5\n",
      "6\n",
      "7\n",
      "8\n",
      "9\n"
     ]
    }
   ],
   "source": [
    "for i in range(10):\n",
    "    print(i)"
   ]
  },
  {
   "cell_type": "code",
   "execution_count": null,
   "id": "d0cc88f4-3cd1-41d0-a94b-07b4d76ce36a",
   "metadata": {},
   "outputs": [
    {
     "name": "stdout",
     "output_type": "stream",
     "text": [
      "0: red is NOT my favorite\n",
      "1: blue is my favorite\n",
      "2: green is NOT my favorite\n",
      "3: yellow is NOT my favorite\n",
      "4: white is NOT my favorite\n"
     ]
    }
   ],
   "source": [
    "for idx, color in enumerate(colors):\n",
    "    favorite_color = 'blue'\n",
    "    if color == favorite_color:\n",
    "        print('{}: {} is my favorite'.format(idx, color))\n",
    "    else:\n",
    "        print('{}: {} is NOT my favorite'.format(idx, color))"
   ]
  },
  {
   "cell_type": "markdown",
   "id": "e3acedb6-cd37-4a3b-9f6c-e59211d4db7a",
   "metadata": {},
   "source": [
    "### リスト内包表記（List Comprehensions）"
   ]
  },
  {
   "cell_type": "markdown",
   "id": "f65eebda",
   "metadata": {},
   "source": [
    "for文より処理速度が速いため推奨される"
   ]
  },
  {
   "cell_type": "code",
   "execution_count": 22,
   "id": "6c0a2e07-de1b-4ce4-ae14-7a6a753a802f",
   "metadata": {},
   "outputs": [
    {
     "data": {
      "text/plain": [
       "['red.png', 'blue.png', 'green.png', 'yellow.png', 'white.png']"
      ]
     },
     "execution_count": 22,
     "metadata": {},
     "output_type": "execute_result"
    }
   ],
   "source": [
    "colors = ['red', 'blue', 'green', 'yellow', 'white']\n",
    "colors_png = []\n",
    "for color in colors:\n",
    "    color_png = color + '.png'\n",
    "    colors_png.append(color_png)\n",
    "colors_png"
   ]
  },
  {
   "cell_type": "code",
   "execution_count": 23,
   "id": "71ff6c91-eb05-42e3-8b40-79604e8b3c17",
   "metadata": {},
   "outputs": [
    {
     "data": {
      "text/plain": [
       "['red.png', 'blue.png', 'green.png', 'yellow.png', 'white.png']"
      ]
     },
     "execution_count": 23,
     "metadata": {},
     "output_type": "execute_result"
    }
   ],
   "source": [
    "colors = ['red', 'blue', 'green', 'yellow', 'white']\n",
    "colors_png = []\n",
    "colors_png = [color + '.png' for color in colors]\n",
    "colors_png"
   ]
  },
  {
   "cell_type": "markdown",
   "id": "75797551-2441-4721-bdf2-7eb52876808c",
   "metadata": {},
   "source": [
    "### while文"
   ]
  },
  {
   "cell_type": "code",
   "execution_count": null,
   "id": "517b1fe1-587b-4291-a44a-5cfa8bf880f4",
   "metadata": {},
   "outputs": [
    {
     "name": "stdout",
     "output_type": "stream",
     "text": [
      "0 is less than 5\n",
      "1 is less than 5\n",
      "2 is less than 5\n",
      "3 is less than 5\n",
      "4 is less than 5\n"
     ]
    }
   ],
   "source": [
    "i = 0\n",
    "while i < 5:\n",
    "    print('{} is less than 5'.format(i))\n",
    "    i += 1"
   ]
  },
  {
   "cell_type": "markdown",
   "id": "1d12b002-0ea4-4721-9e44-6bf08070a52a",
   "metadata": {},
   "source": [
    "# イテラブル(Iterable)とイテレーター(Iterator)"
   ]
  },
  {
   "cell_type": "markdown",
   "id": "4481534a",
   "metadata": {},
   "source": [
    "iterable: iter()関数でiteratorを返すオブジェクト\n",
    "\n",
    "iterator: next()関数でiterationできるオブジェクト"
   ]
  },
  {
   "cell_type": "code",
   "execution_count": 18,
   "id": "c5a1a520-e0d3-4626-9fb6-ff7c2199a0c2",
   "metadata": {},
   "outputs": [
    {
     "data": {
      "text/plain": [
       "<list_iterator at 0x7f6cf4b6ce20>"
      ]
     },
     "execution_count": 18,
     "metadata": {},
     "output_type": "execute_result"
    }
   ],
   "source": [
    "colors = ['red', 'blue', 'green', 'yellow', 'white']\n",
    "iter(colors)"
   ]
  },
  {
   "cell_type": "code",
   "execution_count": 15,
   "id": "18bb1f3d-502c-49cf-a539-e70f49fbb701",
   "metadata": {},
   "outputs": [],
   "source": [
    "color = iter(colors)"
   ]
  },
  {
   "cell_type": "code",
   "execution_count": 17,
   "id": "202f5e48-35db-48bc-909c-b28ee1702ef4",
   "metadata": {},
   "outputs": [
    {
     "data": {
      "text/plain": [
       "'blue'"
      ]
     },
     "execution_count": 17,
     "metadata": {},
     "output_type": "execute_result"
    }
   ],
   "source": [
    "next(color)"
   ]
  },
  {
   "cell_type": "markdown",
   "id": "029b56ca-8d2e-44f3-82b1-6d3ac9130e18",
   "metadata": {},
   "source": [
    "## 関数"
   ]
  },
  {
   "cell_type": "code",
   "execution_count": null,
   "id": "42916f36-0c84-4f59-8182-279e72a0aa2e",
   "metadata": {},
   "outputs": [],
   "source": [
    "def function_name(param1, param2):\n",
    "    \"\"\"\n",
    "    This function prints something\n",
    "    \n",
    "    Parameters\n",
    "    ---------------\n",
    "        param1: explain param1\n",
    "        param2: explain param2\n",
    "    \n",
    "    Returns\n",
    "    ---------------\n",
    "        strings: param1 and param2\n",
    "    \"\"\"\n",
    "    print(\"Do something for {} and {}\".format(param1, param2))\n",
    "    \n",
    "    return param1 + \" and \" + param2"
   ]
  },
  {
   "cell_type": "code",
   "execution_count": null,
   "id": "161f0837-d214-4774-b6c4-1ead860b22a4",
   "metadata": {},
   "outputs": [
    {
     "name": "stdout",
     "output_type": "stream",
     "text": [
      "Do something for argment1 and argment2\n"
     ]
    }
   ],
   "source": [
    "arg1 = \"argment1\"\n",
    "arg2 = \"argment2\"\n",
    "\n",
    "func_return = function_name(arg1, arg2)"
   ]
  },
  {
   "cell_type": "code",
   "execution_count": null,
   "id": "f089ec0f-3abf-4213-8f5f-a741c469e875",
   "metadata": {},
   "outputs": [
    {
     "data": {
      "text/plain": [
       "'argment1 and argment2'"
      ]
     },
     "execution_count": 104,
     "metadata": {},
     "output_type": "execute_result"
    }
   ],
   "source": [
    "func_return"
   ]
  },
  {
   "cell_type": "markdown",
   "id": "0edfcc09-2749-4bdd-a56d-5009ed2d8b07",
   "metadata": {},
   "source": [
    "## Mutable vs Immutable\n",
    "\n",
    "list\n",
    "dict\n",
    "set"
   ]
  },
  {
   "cell_type": "code",
   "execution_count": null,
   "id": "d55cbc10-5d64-45e8-9fbe-1bd5787a3172",
   "metadata": {},
   "outputs": [
    {
     "name": "stdout",
     "output_type": "stream",
     "text": [
      "140053192500096\n",
      "140053192500096\n"
     ]
    }
   ],
   "source": [
    "list_a = [1, 2, 3]\n",
    "print(id(list_a))\n",
    "\n",
    "list_a += [4, 5, 6]\n",
    "print(id(list_a))"
   ]
  },
  {
   "cell_type": "code",
   "execution_count": null,
   "id": "401cfad5-2ca1-4dfd-853f-40b00ce95d18",
   "metadata": {},
   "outputs": [
    {
     "name": "stdout",
     "output_type": "stream",
     "text": [
      "94729998327168\n",
      "94729998327296\n"
     ]
    }
   ],
   "source": [
    "a = 3\n",
    "print(id(a))\n",
    "a += 4\n",
    "print(id(a))"
   ]
  },
  {
   "cell_type": "code",
   "execution_count": null,
   "id": "3da23b41-bc17-4ced-80cb-9f6466c9d64a",
   "metadata": {},
   "outputs": [],
   "source": [
    "def append_elem(list_param, elem=0):\n",
    "    list_param.append(elem)\n",
    "    return list_param\n",
    "\n",
    "list_a = [1, 2, 3]\n",
    "list_b = append_elem(list_a, elem=4)"
   ]
  },
  {
   "cell_type": "code",
   "execution_count": null,
   "id": "9578b259-ecbf-4760-a5ec-f3b95dad55e2",
   "metadata": {},
   "outputs": [
    {
     "name": "stdout",
     "output_type": "stream",
     "text": [
      "[1, 2, 3]\n",
      "[1, 2, 3, 4]\n"
     ]
    }
   ],
   "source": [
    "def append_elem2(list_param, elem=0):\n",
    "    new_list = list_param.copy()\n",
    "    new_list.append(elem)\n",
    "    return new_list\n",
    "\n",
    "list_a = [1, 2, 3]\n",
    "list_b = append_elem2(list_a, elem=4)\n",
    "\n",
    "print(list_a)\n",
    "print(list_b)"
   ]
  },
  {
   "cell_type": "markdown",
   "id": "fbb47961-4d90-4c6d-aede-4871cf337806",
   "metadata": {},
   "source": [
    "## Lambda関数"
   ]
  },
  {
   "cell_type": "code",
   "execution_count": null,
   "id": "f13161cc-9591-47cf-8635-d32fa6f945e4",
   "metadata": {},
   "outputs": [],
   "source": [
    "def func(a):\n",
    "    return a + 1"
   ]
  },
  {
   "cell_type": "code",
   "execution_count": null,
   "id": "087ea634-11d2-410a-a426-738780de6aa2",
   "metadata": {},
   "outputs": [],
   "source": [
    "x = lambda a: a + 1"
   ]
  },
  {
   "cell_type": "code",
   "execution_count": null,
   "id": "c0a22d42-3d5d-4901-880b-0cb83e587eb8",
   "metadata": {},
   "outputs": [
    {
     "data": {
      "text/plain": [
       "4"
      ]
     },
     "execution_count": 132,
     "metadata": {},
     "output_type": "execute_result"
    }
   ],
   "source": [
    "func(3)"
   ]
  },
  {
   "cell_type": "code",
   "execution_count": null,
   "id": "c6f97596-5cff-467f-8f2e-6ae3a6c8c506",
   "metadata": {},
   "outputs": [
    {
     "data": {
      "text/plain": [
       "4"
      ]
     },
     "execution_count": 133,
     "metadata": {},
     "output_type": "execute_result"
    }
   ],
   "source": [
    "x(3)"
   ]
  },
  {
   "cell_type": "code",
   "execution_count": null,
   "id": "4dead03f-726d-46f3-90e0-ed92fbce3cc2",
   "metadata": {},
   "outputs": [],
   "source": [
    "file_path = '/home/user/Desktop/image1.jpg'"
   ]
  },
  {
   "cell_type": "code",
   "execution_count": null,
   "id": "d085e571-67d1-4377-a75b-bf293fe2e715",
   "metadata": {},
   "outputs": [],
   "source": [
    "get_filename =  lambda path: path[-10:-4]"
   ]
  },
  {
   "cell_type": "code",
   "execution_count": null,
   "id": "03719382-8905-42ab-8298-53fc94fac5d5",
   "metadata": {},
   "outputs": [
    {
     "data": {
      "text/plain": [
       "'image1'"
      ]
     },
     "execution_count": 158,
     "metadata": {},
     "output_type": "execute_result"
    }
   ],
   "source": [
    "get_filename(file_path)"
   ]
  },
  {
   "cell_type": "code",
   "execution_count": null,
   "id": "c652a6e7-ba31-4e61-8cd6-92a613594b03",
   "metadata": {},
   "outputs": [
    {
     "data": {
      "text/plain": [
       "'image1'"
      ]
     },
     "execution_count": 160,
     "metadata": {},
     "output_type": "execute_result"
    }
   ],
   "source": [
    "file_path.split('/')[-1].split('.')[0]"
   ]
  },
  {
   "cell_type": "code",
   "execution_count": null,
   "id": "a0d54365-2093-469a-9d88-6392b5b0c853",
   "metadata": {},
   "outputs": [],
   "source": [
    "def get_filename2(path):\n",
    "    return file_path.split('/')[-1].split('.')[0]"
   ]
  },
  {
   "cell_type": "code",
   "execution_count": null,
   "id": "c88190ae-ca65-43e0-9723-7760f3d5190e",
   "metadata": {},
   "outputs": [
    {
     "data": {
      "text/plain": [
       "'image1'"
      ]
     },
     "execution_count": 162,
     "metadata": {},
     "output_type": "execute_result"
    }
   ],
   "source": [
    "get_filename2(file_path)"
   ]
  },
  {
   "cell_type": "code",
   "execution_count": null,
   "id": "c54c4d42-0fda-4da1-b866-ef72f8cbcaf8",
   "metadata": {},
   "outputs": [],
   "source": [
    "x = lambda path: file_path.split('/')[-1].split('.')[0]"
   ]
  },
  {
   "cell_type": "code",
   "execution_count": null,
   "id": "3ba2e1bb-626d-4903-8e7a-593718165935",
   "metadata": {},
   "outputs": [
    {
     "data": {
      "text/plain": [
       "'image1'"
      ]
     },
     "execution_count": 164,
     "metadata": {},
     "output_type": "execute_result"
    }
   ],
   "source": [
    "x(file_path)"
   ]
  },
  {
   "cell_type": "markdown",
   "id": "232a751c-c471-4434-9274-453ab975de5b",
   "metadata": {},
   "source": [
    "## *argsと**kwargs"
   ]
  },
  {
   "cell_type": "code",
   "execution_count": null,
   "id": "a388865f-4c69-4225-a173-c22b10dfa574",
   "metadata": {},
   "outputs": [],
   "source": [
    "def func1(a,b):\n",
    "    return a + b"
   ]
  },
  {
   "cell_type": "code",
   "execution_count": null,
   "id": "b9384aea-a969-4359-9a4d-60f3421c230f",
   "metadata": {},
   "outputs": [],
   "source": [
    "def func2(*args):\n",
    "    return args[0] + args[1]"
   ]
  },
  {
   "cell_type": "code",
   "execution_count": null,
   "id": "882f8f2d-7ed1-41b0-9154-2227fcc3c077",
   "metadata": {},
   "outputs": [],
   "source": [
    "def return_only_png(*filelist):\n",
    "    r_f = []\n",
    "    for f in filelist:\n",
    "        if 'png' in f:\n",
    "            r_f.append(f)\n",
    "    return r_f"
   ]
  },
  {
   "cell_type": "code",
   "execution_count": null,
   "id": "d6b2df87-d8f1-4508-ae81-39dba3033388",
   "metadata": {},
   "outputs": [
    {
     "data": {
      "text/plain": [
       "['image1.png', 'image3.png']"
      ]
     },
     "execution_count": 175,
     "metadata": {},
     "output_type": "execute_result"
    }
   ],
   "source": [
    "return_only_png('image1.png', 'image2.jpg', 'image3.png')"
   ]
  },
  {
   "cell_type": "code",
   "execution_count": null,
   "id": "6aa36a64-edeb-4329-9f14-833f3f0c301f",
   "metadata": {},
   "outputs": [],
   "source": [
    "def print_dict(**kwargs):\n",
    "    \n",
    "    param_a  = kwargs.get('a', 100)\n",
    "    print(kwargs)\n",
    "    print(param_a)"
   ]
  },
  {
   "cell_type": "code",
   "execution_count": null,
   "id": "180ead6f-42e5-4a11-bbf8-b065cc5b5eda",
   "metadata": {},
   "outputs": [
    {
     "name": "stdout",
     "output_type": "stream",
     "text": [
      "{'b': 2}\n",
      "100\n"
     ]
    }
   ],
   "source": [
    "print_dict(b=2)"
   ]
  },
  {
   "cell_type": "code",
   "execution_count": null,
   "id": "f7067dd3-ee3c-4e37-b031-71cf6ac0a523",
   "metadata": {},
   "outputs": [
    {
     "name": "stdout",
     "output_type": "stream",
     "text": [
      "[1, 2, 3, 4]\n",
      "1 2 3 4\n"
     ]
    }
   ],
   "source": [
    "a = [1, 2, 3, 4]\n",
    "print(a)\n",
    "print(*a)"
   ]
  },
  {
   "cell_type": "code",
   "execution_count": null,
   "id": "0fffad96-451d-43eb-9c7e-8097831096b6",
   "metadata": {},
   "outputs": [],
   "source": [
    "def add_extension(filename, idx=0, extension='.png'):\n",
    "    return '{}_{}{}'.format(filename, idx, extension)"
   ]
  },
  {
   "cell_type": "code",
   "execution_count": null,
   "id": "7f7137ae-c13b-445f-91b9-085fd2449f0c",
   "metadata": {},
   "outputs": [
    {
     "data": {
      "text/plain": [
       "'image1_2.jpg'"
      ]
     },
     "execution_count": 185,
     "metadata": {},
     "output_type": "execute_result"
    }
   ],
   "source": [
    "add_extension('image1', idx=2, extension='.jpg')"
   ]
  },
  {
   "cell_type": "code",
   "execution_count": null,
   "id": "7f9b6e46-4220-488e-bfc3-f34983e1a985",
   "metadata": {},
   "outputs": [],
   "source": [
    "def wrap_add_extension(args):\n",
    "    return add_extension(*args)"
   ]
  },
  {
   "cell_type": "code",
   "execution_count": null,
   "id": "96186543-eec5-445d-a297-0b4847217fe8",
   "metadata": {},
   "outputs": [
    {
     "data": {
      "text/plain": [
       "'image1_2.jpg'"
      ]
     },
     "execution_count": 188,
     "metadata": {},
     "output_type": "execute_result"
    }
   ],
   "source": [
    "arg_tuple = ('image1', 2 , '.jpg')\n",
    "wrap_add_extension(arg_tuple)"
   ]
  },
  {
   "cell_type": "code",
   "execution_count": null,
   "id": "180866b3-9e14-4115-8e51-fca31d245009",
   "metadata": {},
   "outputs": [
    {
     "data": {
      "text/plain": [
       "['image1_2.jpg', 'image2_4.png', 'image6_7.jpeg']"
      ]
     },
     "execution_count": 189,
     "metadata": {},
     "output_type": "execute_result"
    }
   ],
   "source": [
    "arg_list = [('image1', 2, '.jpg'),\n",
    "           ('image2', 4, '.png'),\n",
    "           ('image6', 7, '.jpeg')]\n",
    "[wrap_add_extension(arg) for arg in arg_list]"
   ]
  },
  {
   "cell_type": "code",
   "execution_count": null,
   "id": "d989cd9b-0b47-439f-990e-9a6b8394b465",
   "metadata": {},
   "outputs": [],
   "source": []
  }
 ],
 "metadata": {
  "kernelspec": {
   "display_name": "Python 3",
   "language": "python",
   "name": "python3"
  },
  "language_info": {
   "codemirror_mode": {
    "name": "ipython",
    "version": 3
   },
   "file_extension": ".py",
   "mimetype": "text/x-python",
   "name": "python",
   "nbconvert_exporter": "python",
   "pygments_lexer": "ipython3",
   "version": "3.8.8"
  }
 },
 "nbformat": 4,
 "nbformat_minor": 5
}
