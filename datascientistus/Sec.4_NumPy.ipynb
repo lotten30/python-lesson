{
 "cells": [
  {
   "cell_type": "markdown",
   "id": "b995f95a-29f6-4f6a-bcf3-b342399e5439",
   "metadata": {},
   "source": [
    "[markdown記法](https://qiita.com/tbpgr/items/989c6badefff69377da7)"
   ]
  },
  {
   "cell_type": "markdown",
   "id": "e09fe7f4-d795-47fb-94e2-5c4a2bf88e9b",
   "metadata": {},
   "source": [
    "[米国データサイエンティストがやさしく教えるデータサイエンスのためのPython講座](https://www.udemy.com/course/ds_for_python/learn/lecture/21511724#overview)"
   ]
  },
  {
   "cell_type": "markdown",
   "id": "a048cd52-007a-4730-8d4f-d8ea8eb3a332",
   "metadata": {},
   "source": [
    "# 19.NumPyとは"
   ]
  },
  {
   "cell_type": "markdown",
   "id": "b5733334",
   "metadata": {},
   "source": [
    "行列計算できるため、非常によく使う"
   ]
  },
  {
   "cell_type": "code",
   "execution_count": 1,
   "id": "7e8073f6-b520-4b0d-9bbf-5f07d42e22c2",
   "metadata": {},
   "outputs": [],
   "source": [
    "import numpy as np"
   ]
  },
  {
   "cell_type": "code",
   "execution_count": 2,
   "id": "84975507-fb40-482c-8fc4-1e6cff08cdf5",
   "metadata": {},
   "outputs": [
    {
     "data": {
      "text/plain": [
       "'/opt/anaconda3/lib/python3.8/site-packages/numpy/__init__.py'"
      ]
     },
     "execution_count": 2,
     "metadata": {},
     "output_type": "execute_result"
    }
   ],
   "source": [
    "np.__file__"
   ]
  },
  {
   "cell_type": "markdown",
   "id": "e08a2369-5b4d-4161-98ba-7e8078d83ba7",
   "metadata": {},
   "source": [
    "# 20.NumPy Arrays (ndarray)"
   ]
  },
  {
   "cell_type": "code",
   "execution_count": 5,
   "id": "d095fa6e-933e-4ce4-9806-b26de9c5e583",
   "metadata": {},
   "outputs": [
    {
     "name": "stdout",
     "output_type": "stream",
     "text": [
      "[[1. 2. 3.]\n",
      " [4. 5. 6.]\n",
      " [7. 8. 9.]]\n",
      "1.0\n"
     ]
    },
    {
     "data": {
      "text/plain": [
       "numpy.float64"
      ]
     },
     "execution_count": 5,
     "metadata": {},
     "output_type": "execute_result"
    }
   ],
   "source": [
    "matrix = np.array([[1, 2, 3], [4, 5, 6], [7, 8, 9]], dtype=float)\n",
    "print(matrix)\n",
    "print(matrix[0][0])\n",
    "type(matrix[0][0])"
   ]
  },
  {
   "cell_type": "markdown",
   "id": "953c6773-f18e-4174-9baf-2cbe7d9273bd",
   "metadata": {},
   "source": [
    "arrayの中の数値はnumpy.int64とかfloat64とか\n",
    "\n",
    "**NumPy独自のデータタイプであることに注意！**"
   ]
  },
  {
   "cell_type": "code",
   "execution_count": 6,
   "id": "ea30fc31-f4ce-481b-adc2-40db2e97315e",
   "metadata": {},
   "outputs": [
    {
     "data": {
      "text/plain": [
       "array([1, 2, 3], dtype=uint8)"
      ]
     },
     "execution_count": 6,
     "metadata": {},
     "output_type": "execute_result"
    }
   ],
   "source": [
    "ndarray = np.array([1, 2, 3], dtype=np.uint8)  # unsigned + - integer 8bit\n",
    "ndarray"
   ]
  },
  {
   "cell_type": "markdown",
   "id": "4bd74e8c-01e3-4053-b484-63b618a29d77",
   "metadata": {},
   "source": [
    "uint8\n",
    "- 2^8 = 256\n",
    "- 0~255までの256個（8bit）\n",
    "- 画像を扱うときに使う\n",
    "\n",
    "これらも使う\n",
    "- dtype=np.float32：　uint8で足りないとき\n",
    "- dtype=np.float64：　データ量が多くなる。機械学習のモデル学習などで使用"
   ]
  },
  {
   "cell_type": "markdown",
   "id": "2fc3c426-cb68-4add-aa38-89d0d9e7ab61",
   "metadata": {},
   "source": [
    "# 21.ndarrayの演算\n",
    "- Broadcasting"
   ]
  },
  {
   "cell_type": "code",
   "execution_count": 7,
   "id": "81bbd46d-3adb-4a35-bf17-3aba3c4db852",
   "metadata": {},
   "outputs": [],
   "source": [
    "array1 = np.array([[1, 2, 3], [4, 5, 6], [7, 8, 9]])\n",
    "array2 = np.array([[1, 2, 3], [4, 5, 6], [7, 8, 9]])"
   ]
  },
  {
   "cell_type": "code",
   "execution_count": 8,
   "id": "6cb7fb50-6eb9-4e3e-8a8e-f0c24400c1e5",
   "metadata": {},
   "outputs": [
    {
     "data": {
      "text/plain": [
       "array([[ 2,  4,  6],\n",
       "       [ 8, 10, 12],\n",
       "       [14, 16, 18]])"
      ]
     },
     "execution_count": 8,
     "metadata": {},
     "output_type": "execute_result"
    }
   ],
   "source": [
    "array1 + array2"
   ]
  },
  {
   "cell_type": "markdown",
   "id": "0e0799ff-524e-42ca-baf6-6d43dfadd0b7",
   "metadata": {},
   "source": [
    "行列同士の演算ができる\n",
    "info リストではできないので注意"
   ]
  },
  {
   "cell_type": "code",
   "execution_count": 4,
   "id": "76895194-4da4-48b7-adb8-4a303e2e0c77",
   "metadata": {},
   "outputs": [],
   "source": [
    "array1 = np.array([1, 2, 3])\n",
    "array2 = np.array([[1, 2, 3], [4, 5, 6], [7, 8, 9]])\n",
    "array3 = np.array([[1, 2, 3], [1, 2, 3], [1, 2, 3]])"
   ]
  },
  {
   "cell_type": "markdown",
   "metadata": {},
   "source": [
    "## Broadcasting\n",
    "\n",
    "行列の足りない要素を自動で補完して計算してくれる"
   ]
  },
  {
   "cell_type": "code",
   "execution_count": 7,
   "id": "747c106e-70bf-4ec7-ae06-dd2cdb6c54ad",
   "metadata": {},
   "outputs": [
    {
     "data": {
      "text/plain": [
       "array([[ 2,  4,  6],\n",
       "       [ 5,  7,  9],\n",
       "       [ 8, 10, 12]])"
      ]
     },
     "execution_count": 7,
     "metadata": {},
     "output_type": "execute_result"
    }
   ],
   "source": [
    "# array1をarray2の形に補完して計算してくれる\n",
    "array1 + array2"
   ]
  },
  {
   "cell_type": "code",
   "execution_count": 5,
   "id": "bb0f5567-4b57-4cef-937d-d471767f63ce",
   "metadata": {},
   "outputs": [
    {
     "data": {
      "text/plain": [
       "array([[ 4,  5,  6],\n",
       "       [ 7,  8,  9],\n",
       "       [10, 11, 12]])"
      ]
     },
     "execution_count": 5,
     "metadata": {},
     "output_type": "execute_result"
    }
   ],
   "source": [
    "# 全ての要素に3を足す\n",
    "array2 + 3"
   ]
  },
  {
   "cell_type": "markdown",
   "id": "3a249aab-6e2d-4c86-bfcb-ea062d706d4a",
   "metadata": {},
   "source": [
    "# 22.Shape\n",
    "- ndarray.shape\n",
    "- ndarray.reshape()\n",
    "- np.expand_dims(ndarray, axis)\n",
    "- np.squeeze(ndarray)"
   ]
  },
  {
   "cell_type": "code",
   "execution_count": 9,
   "id": "5dc27935-b86b-49c5-ad51-17c6d0750e8f",
   "metadata": {},
   "outputs": [
    {
     "data": {
      "text/plain": [
       "(3, 2)"
      ]
     },
     "execution_count": 9,
     "metadata": {},
     "output_type": "execute_result"
    }
   ],
   "source": [
    "# 3行2列の行列を作成\n",
    "ndarray = np.array([[1, 2], [3, 4], [5, 6]])\n",
    "ndarray.shape"
   ]
  },
  {
   "cell_type": "markdown",
   "id": "0c349760-5ddc-441c-84c8-29098b04ec6c",
   "metadata": {},
   "source": [
    "ndarrayを作ってまず最初に確認するのがshape\n"
   ]
  },
  {
   "cell_type": "code",
   "execution_count": 10,
   "id": "5220a289-d709-4997-9c25-908d08b9853b",
   "metadata": {},
   "outputs": [
    {
     "data": {
      "text/plain": [
       "array([[1, 2, 3],\n",
       "       [4, 5, 6]])"
      ]
     },
     "execution_count": 10,
     "metadata": {},
     "output_type": "execute_result"
    }
   ],
   "source": [
    "# reshape()関数で行数と列数を変えられる。\n",
    "ndarray.reshape(2, 3)"
   ]
  },
  {
   "cell_type": "code",
   "execution_count": 12,
   "id": "ff2949ad-469e-47a1-8248-e155216d2822",
   "metadata": {},
   "outputs": [
    {
     "ename": "ValueError",
     "evalue": "cannot reshape array of size 6 into shape (1,3)",
     "output_type": "error",
     "traceback": [
      "\u001b[0;31m---------------------------------------------------------------------------\u001b[0m",
      "\u001b[0;31mValueError\u001b[0m                                Traceback (most recent call last)",
      "\u001b[0;32m<ipython-input-12-cd3a05be614c>\u001b[0m in \u001b[0;36m<module>\u001b[0;34m\u001b[0m\n\u001b[1;32m      1\u001b[0m \u001b[0;31m# ただし、要素数が合うようにするべし。\u001b[0m\u001b[0;34m\u001b[0m\u001b[0;34m\u001b[0m\u001b[0;34m\u001b[0m\u001b[0m\n\u001b[0;32m----> 2\u001b[0;31m \u001b[0mndarray\u001b[0m\u001b[0;34m.\u001b[0m\u001b[0mreshape\u001b[0m\u001b[0;34m(\u001b[0m\u001b[0;36m1\u001b[0m\u001b[0;34m,\u001b[0m \u001b[0;36m3\u001b[0m\u001b[0;34m)\u001b[0m\u001b[0;34m\u001b[0m\u001b[0;34m\u001b[0m\u001b[0m\n\u001b[0m",
      "\u001b[0;31mValueError\u001b[0m: cannot reshape array of size 6 into shape (1,3)"
     ]
    }
   ],
   "source": [
    "# ただし、要素数が合うようにするべし。\n",
    "ndarray.reshape(1, 3)"
   ]
  },
  {
   "cell_type": "code",
   "execution_count": 14,
   "id": "e44ec1c5-e70e-4c45-abd1-2a99fd4e326b",
   "metadata": {},
   "outputs": [
    {
     "name": "stdout",
     "output_type": "stream",
     "text": [
      "(3,)\n",
      "(1, 3)\n"
     ]
    }
   ],
   "source": [
    "# 1次元の例と2次元の例。[]の数に注意\n",
    "ndarray1 = np.array([1, 2, 3])\n",
    "ndarray2 = np.array([[1, 2, 3]])\n",
    "\n",
    "print(ndarray1.shape)\n",
    "print(ndarray2.shape)"
   ]
  },
  {
   "cell_type": "markdown",
   "id": "ea1c07b8-0a87-4bf8-8a29-095f722c24a3",
   "metadata": {},
   "source": [
    "2次元(rank2)\n",
    "- 白黒画像\n",
    "- （高さ、横）\n",
    "\n",
    "3次元(rank3)\n",
    "- カラー画像\n",
    "- （高さ、横、奥行き）\n",
    "\n",
    "4次元(rank4)\n",
    "- カラー画像が複数枚ある\n",
    "- （個数、高さ、横、奥行き）"
   ]
  },
  {
   "cell_type": "markdown",
   "id": "0e9fb131-f151-48ae-88d7-d18331b4964f",
   "metadata": {},
   "source": [
    "## 次元の増減 np.expand_dims(ndarray, axis)"
   ]
  },
  {
   "cell_type": "code",
   "execution_count": 15,
   "id": "dd1fc3a0-d44c-4043-b5d5-4e0eb82788c8",
   "metadata": {},
   "outputs": [
    {
     "data": {
      "text/plain": [
       "array([[1, 2, 3]])"
      ]
     },
     "execution_count": 15,
     "metadata": {},
     "output_type": "execute_result"
    }
   ],
   "source": [
    "# axis = 0 だと(3,)の3の前に1が入るイメージ\n",
    "np.expand_dims(ndarray1, axis=0)"
   ]
  },
  {
   "cell_type": "code",
   "execution_count": 16,
   "id": "21c6d066-e42d-48be-b8f5-0671448860b8",
   "metadata": {},
   "outputs": [
    {
     "data": {
      "text/plain": [
       "array([[1],\n",
       "       [2],\n",
       "       [3]])"
      ]
     },
     "execution_count": 16,
     "metadata": {},
     "output_type": "execute_result"
    }
   ],
   "source": [
    "np.expand_dims(ndarray1, axis=-1)"
   ]
  },
  {
   "cell_type": "markdown",
   "id": "bedce9b4-db31-489a-8434-e224e0d8477f",
   "metadata": {},
   "source": [
    "axis = -1 で最後に追加できる。よく使う"
   ]
  },
  {
   "cell_type": "code",
   "execution_count": 22,
   "id": "da99d03f-b221-4b5a-9b1b-99ec07bc00fa",
   "metadata": {},
   "outputs": [
    {
     "data": {
      "text/plain": [
       "array([[1, 2, 3]])"
      ]
     },
     "execution_count": 22,
     "metadata": {},
     "output_type": "execute_result"
    }
   ],
   "source": [
    "expand_ndarray = np.expand_dims(ndarray1, axis=0)\n",
    "expand_ndarray"
   ]
  },
  {
   "cell_type": "code",
   "execution_count": 23,
   "id": "d5dc944f-559f-4f51-94e7-7820f51ce1ae",
   "metadata": {},
   "outputs": [
    {
     "data": {
      "text/plain": [
       "array([1, 2, 3])"
      ]
     },
     "execution_count": 23,
     "metadata": {},
     "output_type": "execute_result"
    }
   ],
   "source": [
    "# shapeで1のrankをなくす\n",
    "np.squeeze(expand_ndarray)"
   ]
  },
  {
   "cell_type": "code",
   "execution_count": 20,
   "id": "46d05f0c-0cab-44bb-ac49-cd271794792f",
   "metadata": {},
   "outputs": [
    {
     "data": {
      "text/plain": [
       "(3, 3)"
      ]
     },
     "execution_count": 20,
     "metadata": {},
     "output_type": "execute_result"
    }
   ],
   "source": [
    "ndarray = np.array([[1, 2, 3], [4, 5, 6], [7, 8, 9]])\n",
    "ndarray.shape"
   ]
  },
  {
   "cell_type": "code",
   "execution_count": 21,
   "id": "b0c3e7b8-d5b1-457e-84f8-426aa7b5ff0c",
   "metadata": {},
   "outputs": [
    {
     "data": {
      "text/plain": [
       "array([1, 2, 3, 4, 5, 6, 7, 8, 9])"
      ]
     },
     "execution_count": 21,
     "metadata": {},
     "output_type": "execute_result"
    }
   ],
   "source": [
    "# .flatten()関数で1次元に変換できる\n",
    "ndarray.flatten()"
   ]
  },
  {
   "cell_type": "markdown",
   "id": "2fc83b7e-8b25-487b-888e-d926b035ecf8",
   "metadata": {},
   "source": [
    "# 23.IndexingとSlicing"
   ]
  },
  {
   "cell_type": "code",
   "execution_count": 28,
   "id": "9a9183f8-3969-42a7-982d-1177aae94978",
   "metadata": {},
   "outputs": [
    {
     "name": "stdout",
     "output_type": "stream",
     "text": [
      "4\n"
     ]
    }
   ],
   "source": [
    "ndarray = np.array([1, 2, 3, 4])\n",
    "print(ndarray[-1])"
   ]
  },
  {
   "cell_type": "code",
   "execution_count": 31,
   "id": "f029c3cf-c2a6-4b0a-afb3-93fc3e910506",
   "metadata": {},
   "outputs": [
    {
     "name": "stdout",
     "output_type": "stream",
     "text": [
      "2\n"
     ]
    }
   ],
   "source": [
    "ndarray = np.array([[1, 2], [3, 4], [5, 6]])\n",
    "print(ndarray[0, 1])"
   ]
  },
  {
   "cell_type": "code",
   "execution_count": 30,
   "id": "9db10399-5b3f-4837-a98e-b83f584bc441",
   "metadata": {},
   "outputs": [
    {
     "name": "stdout",
     "output_type": "stream",
     "text": [
      "[[ 3  4]\n",
      " [ 7  8]\n",
      " [11 12]]\n"
     ]
    }
   ],
   "source": [
    "ndarray = np.array([[1, 2, 3, 4], [5, 6, 7, 8], [9, 10, 11, 12], [13, 14, 15, 16]])\n",
    "print(ndarray[:3, 2:])"
   ]
  },
  {
   "cell_type": "markdown",
   "id": "e4c1596e",
   "metadata": {},
   "source": [
    "# 24.np.arange(), np.linspace(), np.logspace()\n",
    "\n",
    "ある規則で並んだ行列を作りたいときに使用"
   ]
  },
  {
   "cell_type": "markdown",
   "id": "4ef5bc37-1cd5-46df-ad42-8a52845af1d8",
   "metadata": {},
   "source": [
    "## np.arange(start=0, stop, step)\n",
    "\n",
    "stepがわかっている場合に使う"
   ]
  },
  {
   "cell_type": "code",
   "execution_count": 32,
   "id": "3981ffc7-9892-41de-9bf3-552c37d3779b",
   "metadata": {},
   "outputs": [
    {
     "data": {
      "text/plain": [
       "array([ 3,  5,  7,  9, 11, 13])"
      ]
     },
     "execution_count": 32,
     "metadata": {},
     "output_type": "execute_result"
    }
   ],
   "source": [
    "np.arange(3, 15, 2)"
   ]
  },
  {
   "cell_type": "markdown",
   "id": "f261b39f-7519-4b1a-9d28-490b7d6e55a8",
   "metadata": {},
   "source": [
    "## np.linspace(start, stop, step)\n",
    "\n",
    "範囲がわかっているときに使う"
   ]
  },
  {
   "cell_type": "code",
   "execution_count": 33,
   "id": "f0e3a21c-dda4-4492-9b6e-11f706c60845",
   "metadata": {},
   "outputs": [
    {
     "data": {
      "text/plain": [
       "array([2.  , 2.25, 2.5 , 2.75, 3.  ])"
      ]
     },
     "execution_count": 33,
     "metadata": {},
     "output_type": "execute_result"
    }
   ],
   "source": [
    "np.linspace(2.0, 3.0, 5)"
   ]
  },
  {
   "cell_type": "markdown",
   "id": "9cd80515-a14d-4836-a9e5-9d4654a8d7ac",
   "metadata": {},
   "source": [
    "## np.logspace(start, stop, num=50)"
   ]
  },
  {
   "cell_type": "code",
   "execution_count": 22,
   "id": "07d611b7-4a6c-4bf5-be67-1f7ad1366714",
   "metadata": {},
   "outputs": [
    {
     "data": {
      "text/plain": [
       "array([   1.        ,    2.15443469,    4.64158883,   10.        ,\n",
       "         21.5443469 ,   46.41588834,  100.        ,  215.443469  ,\n",
       "        464.15888336, 1000.        ])"
      ]
     },
     "execution_count": 22,
     "metadata": {},
     "output_type": "execute_result"
    }
   ],
   "source": [
    "np.logspace(0, 3.0, 10)\n",
    "# 10^0, 10^0.333, 10^0.666, 10^1, ..., 10^3"
   ]
  },
  {
   "cell_type": "markdown",
   "id": "261ffec3-173b-46f0-a445-2390519c1ea5",
   "metadata": {},
   "source": [
    "# 25.行列生成 zeros, ones, eye"
   ]
  },
  {
   "cell_type": "markdown",
   "id": "bb1316ce-005d-4862-b0d1-cfb74b9cc544",
   "metadata": {},
   "source": [
    "### np.zeros(shape)"
   ]
  },
  {
   "cell_type": "code",
   "execution_count": 36,
   "id": "5bfcd42d-8599-4ed8-9eb5-880b622efd6d",
   "metadata": {},
   "outputs": [
    {
     "data": {
      "text/plain": [
       "array([[0., 0., 0., 0.],\n",
       "       [0., 0., 0., 0.],\n",
       "       [0., 0., 0., 0.]])"
      ]
     },
     "execution_count": 36,
     "metadata": {},
     "output_type": "execute_result"
    }
   ],
   "source": [
    "shape = (3, 4)\n",
    "np.zeros(shape)"
   ]
  },
  {
   "cell_type": "markdown",
   "id": "5a21ce23",
   "metadata": {},
   "source": [
    "NumPyのShapeはtupleで定義"
   ]
  },
  {
   "cell_type": "markdown",
   "id": "c8d96851-a413-4041-a586-80b97760621a",
   "metadata": {},
   "source": [
    "### np.ones(shape)"
   ]
  },
  {
   "cell_type": "code",
   "execution_count": 37,
   "id": "06a5838e-5d7c-4af5-ab9e-7d9b221b27ba",
   "metadata": {},
   "outputs": [
    {
     "data": {
      "text/plain": [
       "array([[1., 1., 1., 1.],\n",
       "       [1., 1., 1., 1.],\n",
       "       [1., 1., 1., 1.],\n",
       "       [1., 1., 1., 1.],\n",
       "       [1., 1., 1., 1.]])"
      ]
     },
     "execution_count": 37,
     "metadata": {},
     "output_type": "execute_result"
    }
   ],
   "source": [
    "shape = (5, 4)\n",
    "np.ones(shape)"
   ]
  },
  {
   "cell_type": "markdown",
   "id": "75da2586-2dd4-489c-99f2-09adefe76310",
   "metadata": {},
   "source": [
    "**np.ones((5, 4))*5 など　定数で埋めた行列を作れる**"
   ]
  },
  {
   "cell_type": "markdown",
   "id": "da890142-91d5-4b34-9e53-5852b2168a36",
   "metadata": {},
   "source": [
    "### np.eye(shape)"
   ]
  },
  {
   "cell_type": "code",
   "execution_count": 38,
   "id": "22a01ab1-e29e-4865-bdc3-e372f9fd826d",
   "metadata": {},
   "outputs": [
    {
     "data": {
      "text/plain": [
       "array([[1., 0., 0., 0.],\n",
       "       [0., 1., 0., 0.],\n",
       "       [0., 0., 1., 0.],\n",
       "       [0., 0., 0., 1.]])"
      ]
     },
     "execution_count": 38,
     "metadata": {},
     "output_type": "execute_result"
    }
   ],
   "source": [
    "np.eye(4)"
   ]
  },
  {
   "cell_type": "code",
   "execution_count": null,
   "id": "fbcb4460",
   "metadata": {},
   "outputs": [],
   "source": []
  },
  {
   "cell_type": "markdown",
   "id": "2acc7f71-b628-4c74-832d-32de8facf438",
   "metadata": {},
   "source": [
    "# 26.np.randomを使って乱数生成\n",
    "- np.random.rand()\n",
    "- np.random.seed()\n",
    "- np.random.randn()\n",
    "    - 標準正規分布\n",
    "    - np.random.normal()\n",
    "        任意の正規分布（平均と標準偏差を指定）\n",
    "- np.random.randint()\n",
    "- np.random.choice()"
   ]
  },
  {
   "cell_type": "markdown",
   "id": "43e0ae22-a38b-4feb-aafe-ab96e454b216",
   "metadata": {},
   "source": [
    "### np.random.rand()"
   ]
  },
  {
   "cell_type": "code",
   "execution_count": 23,
   "id": "4cbf47bc-0a19-4c4b-8a08-9df50fb82b46",
   "metadata": {},
   "outputs": [
    {
     "data": {
      "text/plain": [
       "array([[0.59932493, 0.01608126, 0.52262721, 0.76101366],\n",
       "       [0.37341283, 0.55265336, 0.46863453, 0.37597373],\n",
       "       [0.23729634, 0.89875519, 0.64668055, 0.06727597]])"
      ]
     },
     "execution_count": 23,
     "metadata": {},
     "output_type": "execute_result"
    }
   ],
   "source": [
    "## 擬似乱数 pseudo random\n",
    "np.random.rand(3, 4)"
   ]
  },
  {
   "cell_type": "markdown",
   "id": "5b4fea17-55a8-41dc-a036-628312215d9e",
   "metadata": {},
   "source": [
    "### np.random.seed()"
   ]
  },
  {
   "cell_type": "code",
   "execution_count": 24,
   "id": "2fab1d98-4ea8-4327-b2e4-c0a968b738c2",
   "metadata": {},
   "outputs": [
    {
     "data": {
      "text/plain": [
       "0.417022004702574"
      ]
     },
     "execution_count": 24,
     "metadata": {},
     "output_type": "execute_result"
    }
   ],
   "source": [
    "np.random.seed(1)\n",
    "np.random.rand()"
   ]
  },
  {
   "cell_type": "markdown",
   "id": "a92aade0-b467-4c19-91ad-cd1f006a56a1",
   "metadata": {},
   "source": [
    "### np.random.randn"
   ]
  },
  {
   "cell_type": "code",
   "execution_count": 25,
   "id": "96a0baf1-cbcf-4985-8c6d-465df5c7dc29",
   "metadata": {},
   "outputs": [
    {
     "data": {
      "text/plain": [
       "array([[-0.80217284, -0.44887781, -1.10593508, -1.65451545],\n",
       "       [-2.3634686 ,  1.13534535, -1.01701414,  0.63736181],\n",
       "       [-0.85990661,  1.77260763, -1.11036305,  0.18121427]])"
      ]
     },
     "execution_count": 25,
     "metadata": {},
     "output_type": "execute_result"
    }
   ],
   "source": [
    "np.random.randn(3, 4)"
   ]
  },
  {
   "cell_type": "code",
   "execution_count": 42,
   "id": "a8b26435-1d64-40ea-ab97-35059b323d41",
   "metadata": {},
   "outputs": [
    {
     "data": {
      "text/plain": [
       "3.5643448655784566"
      ]
     },
     "execution_count": 42,
     "metadata": {},
     "output_type": "execute_result"
    }
   ],
   "source": [
    "np.random.normal(3, 1)  ##任意の正規分布"
   ]
  },
  {
   "cell_type": "markdown",
   "id": "bd952aef-fdb2-407b-83cb-374b7384ebe9",
   "metadata": {},
   "source": [
    "### np.random.randint()"
   ]
  },
  {
   "cell_type": "code",
   "execution_count": 43,
   "id": "b345a4de-fe04-4689-a032-f327c85edbfa",
   "metadata": {},
   "outputs": [
    {
     "data": {
      "text/plain": [
       "array([[19, 17, 73],\n",
       "       [71, 32, 67]])"
      ]
     },
     "execution_count": 43,
     "metadata": {},
     "output_type": "execute_result"
    }
   ],
   "source": [
    "np.random.randint(10, 100, (2, 3))"
   ]
  },
  {
   "cell_type": "markdown",
   "id": "ff9300ae-7471-4257-815f-cc7e3d056a68",
   "metadata": {},
   "source": [
    "### np.random.choice()"
   ]
  },
  {
   "cell_type": "code",
   "execution_count": 29,
   "id": "1281b3ca-ffbd-41a6-8d0b-0b1ad5bb7aed",
   "metadata": {},
   "outputs": [
    {
     "data": {
      "text/plain": [
       "2"
      ]
     },
     "execution_count": 29,
     "metadata": {},
     "output_type": "execute_result"
    }
   ],
   "source": [
    "a = [1, 2, 3]\n",
    "np.random.choice(a)\n",
    "### リストの中身のどれかをランダムにとってくる"
   ]
  },
  {
   "cell_type": "markdown",
   "id": "e4b76b95-9d23-487a-93d5-e1d4df23306a",
   "metadata": {},
   "source": [
    "# 27.統計量を求める\n",
    "- 最大値\n",
    "    - .max()\n",
    "    - np.max()\n",
    "- 最小値\n",
    "    - .min()\n",
    "    - .argmin() - インデックス番号を得る\n",
    "- 平均値\n",
    "    - .mean()\n",
    "- 中央値\n",
    "    - np.median()\n",
    "- 標準偏差\n",
    "    - np.std()\n",
    "\n",
    "**max, min などの()にaxisを指定すると、行ごと、列ごとに統計量を計算できる**"
   ]
  },
  {
   "cell_type": "code",
   "execution_count": 33,
   "id": "508bb3de-8769-46ca-af80-279d54f843eb",
   "metadata": {},
   "outputs": [
    {
     "data": {
      "text/plain": [
       "array([[ 0.7299756 ,  0.37299379,  0.53381091, -0.0919733 ,  1.91382039],\n",
       "       [ 0.33079713,  1.14194252, -1.12959516, -0.85005238,  0.96082   ],\n",
       "       [-0.21741818,  0.15851488,  0.87341823, -0.11138337, -1.03803876],\n",
       "       [-1.00947983, -1.05825656,  0.65628408, -0.06249159, -1.73865429],\n",
       "       [ 0.103163  , -0.62166685,  0.27571804, -1.09067489, -0.60998525]])"
      ]
     },
     "execution_count": 33,
     "metadata": {},
     "output_type": "execute_result"
    }
   ],
   "source": [
    "std_norm = np.random.randn(5, 5)\n",
    "std_norm"
   ]
  },
  {
   "cell_type": "markdown",
   "id": "5ab8a75e-ead6-4791-9322-a783c4c2c13d",
   "metadata": {},
   "source": [
    "### 最大値とそのindex"
   ]
  },
  {
   "cell_type": "code",
   "execution_count": null,
   "id": "e140e840",
   "metadata": {},
   "outputs": [],
   "source": [
    "print(std_norm.max())\n",
    "print(std_norm.argmax())"
   ]
  },
  {
   "cell_type": "code",
   "execution_count": 47,
   "id": "ff727a96-bb9f-4b6c-94d3-78752911dc5f",
   "metadata": {},
   "outputs": [
    {
     "name": "stdout",
     "output_type": "stream",
     "text": [
      "[0.17133845 0.17532267 1.70490377 1.0149868  1.3814073 ]\n",
      "[0.77735121 1.70490377 1.3814073  1.0149868  0.06770979]\n"
     ]
    }
   ],
   "source": [
    "print(std_norm.max(axis=0))  # 列ごと\n",
    "print(std_norm.max(axis=1))  # 行ごと"
   ]
  },
  {
   "cell_type": "markdown",
   "id": "7a4ec7c6-c2d1-4259-b4dd-6323a91da52f",
   "metadata": {},
   "source": [
    "### 最小値とそのindex"
   ]
  },
  {
   "cell_type": "code",
   "execution_count": null,
   "id": "9b64894d",
   "metadata": {},
   "outputs": [],
   "source": [
    "print(std_norm.min())\n",
    "print(std_norm.argmin())"
   ]
  },
  {
   "cell_type": "code",
   "execution_count": 49,
   "id": "a2706565-f95b-4b07-b806-02378372071b",
   "metadata": {},
   "outputs": [
    {
     "data": {
      "text/plain": [
       "-0.2870998934432889"
      ]
     },
     "execution_count": 49,
     "metadata": {},
     "output_type": "execute_result"
    }
   ],
   "source": [
    "std_norm.flatten()[20]"
   ]
  },
  {
   "cell_type": "markdown",
   "id": "255ca7f3-2e17-420a-9a4a-6367f9c9e8c4",
   "metadata": {},
   "source": [
    "### 平均値"
   ]
  },
  {
   "cell_type": "code",
   "execution_count": null,
   "id": "c5849eca",
   "metadata": {},
   "outputs": [],
   "source": [
    "std_norm.mean()"
   ]
  },
  {
   "cell_type": "markdown",
   "id": "b9c9d433-7fc6-4f23-a64e-27a6fd26b1bf",
   "metadata": {},
   "source": [
    "### 中央値"
   ]
  },
  {
   "cell_type": "code",
   "execution_count": 34,
   "id": "81f0a7a5",
   "metadata": {},
   "outputs": [
    {
     "data": {
      "text/plain": [
       "-0.06249159330061683"
      ]
     },
     "execution_count": 34,
     "metadata": {},
     "output_type": "execute_result"
    }
   ],
   "source": [
    "np.median(std_norm)\n",
    "# std_norm.median()は使えない\n",
    "# データを並び替えるので処理に時間がかかる\n",
    "# 外れ値に強い"
   ]
  },
  {
   "cell_type": "code",
   "execution_count": 35,
   "id": "5abef812-8274-48aa-b718-4abb2c3a8d30",
   "metadata": {},
   "outputs": [
    {
     "name": "stdout",
     "output_type": "stream",
     "text": [
      "0.011454105377197266 sec\n",
      "0.0005705356597900391 sec\n"
     ]
    }
   ],
   "source": [
    "# 中央値vs平均値\n",
    "import time\n",
    "\n",
    "a = np.random.rand(1000, 1000)\n",
    "before = time.time()\n",
    "np.median(a)\n",
    "after_median = time.time()\n",
    "np.mean(a)\n",
    "after_mean = time.time()\n",
    "print(\"{} sec\".format(after_median - before))\n",
    "print(\"{} sec\".format(after_mean - after_median))"
   ]
  },
  {
   "cell_type": "markdown",
   "id": "5231d2dd-dbbf-416a-96b7-591bbeb5d037",
   "metadata": {},
   "source": [
    "### 標準偏差"
   ]
  },
  {
   "cell_type": "code",
   "execution_count": null,
   "id": "48b82de5",
   "metadata": {},
   "outputs": [],
   "source": [
    "np.std(std_norm)"
   ]
  },
  {
   "cell_type": "markdown",
   "id": "2bbe0591-47e1-4fc9-a6b1-cdebf73f803e",
   "metadata": {},
   "source": [
    "# 28.数学で使う便利関数\n",
    "- 平方根\n",
    "- log\n",
    "- 指数関数\n",
    "- ネイピア数\n",
    "- 合計\n",
    "- 絶対値"
   ]
  },
  {
   "cell_type": "markdown",
   "id": "864d570b-95a3-4072-ae03-896137c6faf7",
   "metadata": {},
   "source": [
    "## 平方根　square root"
   ]
  },
  {
   "cell_type": "code",
   "execution_count": 39,
   "id": "413bcd66",
   "metadata": {},
   "outputs": [
    {
     "data": {
      "text/plain": [
       "array([1.        , 1.41421356, 1.73205081, 2.        ])"
      ]
     },
     "execution_count": 39,
     "metadata": {},
     "output_type": "execute_result"
    }
   ],
   "source": [
    "np.sqrt([1, 2, 3, 4])"
   ]
  },
  {
   "cell_type": "markdown",
   "id": "148df2d2-21aa-4593-81c5-416c329dcde3",
   "metadata": {
    "tags": []
   },
   "source": [
    "## log (logarithm)\n",
    "デフォルトは底がe"
   ]
  },
  {
   "cell_type": "code",
   "execution_count": 40,
   "id": "1aa84b23",
   "metadata": {},
   "outputs": [
    {
     "name": "stdout",
     "output_type": "stream",
     "text": [
      "[ 1.  2.  3.  4.  5.  6.  7.  8.  9. 10.]\n"
     ]
    },
    {
     "data": {
      "text/plain": [
       "array([0.        , 0.69314718, 1.09861229, 1.38629436, 1.60943791,\n",
       "       1.79175947, 1.94591015, 2.07944154, 2.19722458, 2.30258509])"
      ]
     },
     "execution_count": 40,
     "metadata": {},
     "output_type": "execute_result"
    }
   ],
   "source": [
    "x = np.linspace(1, 10, 10)\n",
    "print(x)\n",
    "np.log(x)"
   ]
  },
  {
   "cell_type": "markdown",
   "id": "c84877bd-8688-4e14-a58e-2d7382972173",
   "metadata": {},
   "source": [
    "## 指数関数 Exponential function"
   ]
  },
  {
   "cell_type": "code",
   "execution_count": 41,
   "id": "6d484b90",
   "metadata": {},
   "outputs": [
    {
     "data": {
      "text/plain": [
       "array([2.71828183e+00, 7.38905610e+00, 2.00855369e+01, 5.45981500e+01,\n",
       "       1.48413159e+02, 4.03428793e+02, 1.09663316e+03, 2.98095799e+03,\n",
       "       8.10308393e+03, 2.20264658e+04])"
      ]
     },
     "execution_count": 41,
     "metadata": {},
     "output_type": "execute_result"
    }
   ],
   "source": [
    "np.exp(x)"
   ]
  },
  {
   "cell_type": "markdown",
   "id": "9d51bb73-d08b-431b-b161-0dca69f4eddf",
   "metadata": {},
   "source": [
    "## ネイピア数"
   ]
  },
  {
   "cell_type": "code",
   "execution_count": 43,
   "id": "9cd0196a",
   "metadata": {},
   "outputs": [
    {
     "data": {
      "text/plain": [
       "2.718281828459045"
      ]
     },
     "execution_count": 43,
     "metadata": {},
     "output_type": "execute_result"
    }
   ],
   "source": [
    "np.e"
   ]
  },
  {
   "cell_type": "markdown",
   "id": "3482075e-8e17-459e-b437-8c712a2afe1a",
   "metadata": {},
   "source": [
    "## 合計"
   ]
  },
  {
   "cell_type": "code",
   "execution_count": 45,
   "id": "e57fef9f",
   "metadata": {},
   "outputs": [
    {
     "data": {
      "text/plain": [
       "55"
      ]
     },
     "execution_count": 45,
     "metadata": {},
     "output_type": "execute_result"
    }
   ],
   "source": [
    "array = np.arange(1, 11)\n",
    "np.sum(array)"
   ]
  },
  {
   "cell_type": "code",
   "execution_count": 126,
   "id": "f884e8fa-1750-46a4-aad9-b20a70c867d8",
   "metadata": {},
   "outputs": [
    {
     "data": {
      "text/plain": [
       "array([[ 1,  2,  3,  4,  5],\n",
       "       [ 6,  7,  8,  9, 10]])"
      ]
     },
     "execution_count": 126,
     "metadata": {},
     "output_type": "execute_result"
    }
   ],
   "source": [
    "ndarray = array.reshape(2, 5)\n",
    "ndarray"
   ]
  },
  {
   "cell_type": "markdown",
   "id": "8fd869e6-b150-4414-9cc4-3ecd40363a56",
   "metadata": {},
   "source": [
    "連番で行列にしたいとき、arange()で作って、reshapeが良い"
   ]
  },
  {
   "cell_type": "code",
   "execution_count": 128,
   "id": "457c1d7d-b86d-474e-b274-2389ab544dc2",
   "metadata": {},
   "outputs": [
    {
     "data": {
      "text/plain": [
       "array([15, 40])"
      ]
     },
     "execution_count": 128,
     "metadata": {},
     "output_type": "execute_result"
    }
   ],
   "source": [
    "np.sum(ndarray, axis=1)"
   ]
  },
  {
   "cell_type": "markdown",
   "id": "8cd61a96-27f8-4c07-a8e1-3a8f9d5a9e25",
   "metadata": {},
   "source": [
    "## 絶対値 absolute value"
   ]
  },
  {
   "cell_type": "code",
   "execution_count": 47,
   "id": "bc9d3bcc",
   "metadata": {},
   "outputs": [
    {
     "name": "stdout",
     "output_type": "stream",
     "text": [
      "[-10  -9  -8  -7  -6  -5  -4  -3  -2  -1]\n"
     ]
    },
    {
     "data": {
      "text/plain": [
       "array([10,  9,  8,  7,  6,  5,  4,  3,  2,  1])"
      ]
     },
     "execution_count": 47,
     "metadata": {},
     "output_type": "execute_result"
    }
   ],
   "source": [
    "array = np.arange(-10, 0)\n",
    "print(array)\n",
    "np.abs(array)"
   ]
  },
  {
   "cell_type": "markdown",
   "id": "45c7f953-b054-4670-9b08-a2acf37419ce",
   "metadata": {},
   "source": [
    "# 29.np.nanとnp.isnan()"
   ]
  },
  {
   "cell_type": "code",
   "execution_count": 132,
   "id": "8960eb9d-5de6-41dd-a807-eb07d5190c74",
   "metadata": {},
   "outputs": [],
   "source": [
    "# Nan : Not a Number"
   ]
  },
  {
   "cell_type": "code",
   "execution_count": 133,
   "id": "bfefa6ec-b82c-4506-a6f0-1507ea59231f",
   "metadata": {},
   "outputs": [
    {
     "name": "stderr",
     "output_type": "stream",
     "text": [
      "<ipython-input-133-7f9ccaa0a7b1>:1: RuntimeWarning: invalid value encountered in log\n",
      "  np.log(-100)\n"
     ]
    },
    {
     "data": {
      "text/plain": [
       "nan"
      ]
     },
     "execution_count": 133,
     "metadata": {},
     "output_type": "execute_result"
    }
   ],
   "source": [
    "np.log(-100)"
   ]
  },
  {
   "cell_type": "code",
   "execution_count": 134,
   "id": "9d982aea-9240-4f6c-9ed6-8d3269958d2a",
   "metadata": {},
   "outputs": [
    {
     "data": {
      "text/plain": [
       "float"
      ]
     },
     "execution_count": 134,
     "metadata": {},
     "output_type": "execute_result"
    }
   ],
   "source": [
    "type(np.nan)"
   ]
  },
  {
   "cell_type": "markdown",
   "id": "06bf8aeb-30cb-437c-864b-9b2534710d5b",
   "metadata": {},
   "source": [
    "floatに関するエラーが出たらnanを疑うとよい"
   ]
  },
  {
   "cell_type": "code",
   "execution_count": 136,
   "id": "064e77f1-b245-498f-ba57-4ac70e49d8d0",
   "metadata": {},
   "outputs": [
    {
     "data": {
      "text/plain": [
       "True"
      ]
     },
     "execution_count": 136,
     "metadata": {},
     "output_type": "execute_result"
    }
   ],
   "source": [
    "a = None\n",
    "a is None"
   ]
  },
  {
   "cell_type": "code",
   "execution_count": 137,
   "id": "7190835f-a112-4768-93d2-85a10b534f04",
   "metadata": {},
   "outputs": [
    {
     "name": "stderr",
     "output_type": "stream",
     "text": [
      "<ipython-input-137-997525166556>:1: RuntimeWarning: invalid value encountered in log\n",
      "  np.isnan(np.log(-100))\n"
     ]
    },
    {
     "data": {
      "text/plain": [
       "True"
      ]
     },
     "execution_count": 137,
     "metadata": {},
     "output_type": "execute_result"
    }
   ],
   "source": [
    "np.isnan(np.log(-100))"
   ]
  },
  {
   "cell_type": "markdown",
   "id": "09893421-9d98-45dc-882e-c816c9ff99e0",
   "metadata": {},
   "source": [
    "# 30.その他便利関数"
   ]
  },
  {
   "cell_type": "markdown",
   "id": "4c9fbb8f-84f7-460b-8bdd-08311a7bffb8",
   "metadata": {},
   "source": [
    "### np.clip()\n",
    "最小値と最大値の範囲外を最小値、最大値にする"
   ]
  },
  {
   "cell_type": "code",
   "execution_count": 142,
   "id": "9f9ea8a3-fa4d-4fe9-8537-60eb01e1bab3",
   "metadata": {},
   "outputs": [
    {
     "data": {
      "text/plain": [
       "array([0, 1, 2, 3, 4, 5, 6, 7, 8, 9])"
      ]
     },
     "execution_count": 142,
     "metadata": {},
     "output_type": "execute_result"
    }
   ],
   "source": [
    "array = np.arange(10)\n",
    "array"
   ]
  },
  {
   "cell_type": "code",
   "execution_count": 143,
   "id": "e453cb24-2165-4996-979f-a20cae634df3",
   "metadata": {},
   "outputs": [
    {
     "data": {
      "text/plain": [
       "array([3, 3, 3, 3, 4, 5, 6, 7, 7, 7])"
      ]
     },
     "execution_count": 143,
     "metadata": {},
     "output_type": "execute_result"
    }
   ],
   "source": [
    "np.clip(array, 3, 7)"
   ]
  },
  {
   "cell_type": "markdown",
   "id": "d285b450-09d9-4344-989f-b8e028d63194",
   "metadata": {},
   "source": [
    "log(0.0000......1)は－infとなるため、途中で区切ったりする"
   ]
  },
  {
   "cell_type": "markdown",
   "id": "a1829726-4908-43c3-ad43-e833b93dc841",
   "metadata": {},
   "source": [
    "### np.where()"
   ]
  },
  {
   "cell_type": "code",
   "execution_count": 57,
   "id": "49668683-fa6d-46c4-88b2-589282baa3c7",
   "metadata": {},
   "outputs": [
    {
     "data": {
      "text/plain": [
       "array([0, 0, 0, 0, 1, 1, 1, 1, 1, 1])"
      ]
     },
     "execution_count": 57,
     "metadata": {},
     "output_type": "execute_result"
    }
   ],
   "source": [
    "array = np.arange(10)\n",
    "# Trueなら1に、Falseなら0に置き換える\n",
    "np.where(array > 3, 1, 0)"
   ]
  },
  {
   "cell_type": "code",
   "execution_count": 147,
   "id": "e72b2961-e955-4e8b-a715-a60a04dd8539",
   "metadata": {},
   "outputs": [
    {
     "data": {
      "text/plain": [
       "(array([4, 5, 6, 7, 8, 9]),)"
      ]
     },
     "execution_count": 147,
     "metadata": {},
     "output_type": "execute_result"
    }
   ],
   "source": [
    "np.where(array > 3)"
   ]
  },
  {
   "cell_type": "code",
   "execution_count": 151,
   "id": "1c50e275-921e-41f5-9e32-a0515bec4edb",
   "metadata": {},
   "outputs": [
    {
     "data": {
      "text/plain": [
       "array([4, 5, 6, 7, 8, 9])"
      ]
     },
     "execution_count": 151,
     "metadata": {},
     "output_type": "execute_result"
    }
   ],
   "source": [
    "ndarray = array.reshape(2, 5)\n",
    "ndarray[ndarray > 3]"
   ]
  },
  {
   "cell_type": "code",
   "execution_count": 152,
   "id": "3692b002-52eb-4c7b-af4f-5c9078a81262",
   "metadata": {},
   "outputs": [
    {
     "data": {
      "text/plain": [
       "array([[0, 1, 2, 3, 4],\n",
       "       [5, 6, 7, 8, 9]])"
      ]
     },
     "execution_count": 152,
     "metadata": {},
     "output_type": "execute_result"
    }
   ],
   "source": [
    "ndarray"
   ]
  },
  {
   "cell_type": "code",
   "execution_count": 153,
   "id": "ad38dc90-ad62-428e-9a7d-989e28aa05f8",
   "metadata": {},
   "outputs": [
    {
     "data": {
      "text/plain": [
       "array([[False, False, False, False,  True],\n",
       "       [ True,  True,  True,  True,  True]])"
      ]
     },
     "execution_count": 153,
     "metadata": {},
     "output_type": "execute_result"
    }
   ],
   "source": [
    "ndarray > 3"
   ]
  },
  {
   "cell_type": "code",
   "execution_count": 154,
   "id": "3553c70e-0d14-4ad3-98a2-d2e25bb47a99",
   "metadata": {},
   "outputs": [
    {
     "data": {
      "text/plain": [
       "False"
      ]
     },
     "execution_count": 154,
     "metadata": {},
     "output_type": "execute_result"
    }
   ],
   "source": [
    "# ()内が全てTrueかどうかを判定\n",
    "(ndarray > 3).all()"
   ]
  },
  {
   "cell_type": "code",
   "execution_count": 155,
   "id": "c1726ff9-9336-4a5a-a3e2-3942e0d34c3c",
   "metadata": {},
   "outputs": [
    {
     "data": {
      "text/plain": [
       "True"
      ]
     },
     "execution_count": 155,
     "metadata": {},
     "output_type": "execute_result"
    }
   ],
   "source": [
    "# ()内に一つでもTrueがあるかどうかを判定\n",
    "(ndarray > 3).any()"
   ]
  },
  {
   "cell_type": "code",
   "execution_count": 157,
   "id": "17cbc8e8-76c7-4501-9bf1-2c4af8d5d475",
   "metadata": {},
   "outputs": [
    {
     "name": "stdout",
     "output_type": "stream",
     "text": [
      "[False False False False  True]\n",
      "[False  True]\n"
     ]
    }
   ],
   "source": [
    "print((ndarray > 3).all(axis=0))\n",
    "print((ndarray > 3).all(axis=1))"
   ]
  },
  {
   "cell_type": "markdown",
   "id": "24597d1b-cbd0-4ac0-b83b-467494aed283",
   "metadata": {},
   "source": [
    "## np.unique()"
   ]
  },
  {
   "cell_type": "code",
   "execution_count": 58,
   "id": "9e6b290e-9ad4-4bd9-9acc-f98d9c182a4d",
   "metadata": {},
   "outputs": [
    {
     "data": {
      "text/plain": [
       "array([1, 2, 3, 4, 5])"
      ]
     },
     "execution_count": 58,
     "metadata": {},
     "output_type": "execute_result"
    }
   ],
   "source": [
    "array = np.array([1, 1, 2, 3, 4, 2, 3, 4, 5])\n",
    "np.unique(array)"
   ]
  },
  {
   "cell_type": "code",
   "execution_count": 161,
   "id": "c113cbf5-f889-4e26-8406-6b0b3b8efb2c",
   "metadata": {},
   "outputs": [
    {
     "data": {
      "text/plain": [
       "(array([1, 2, 3, 4, 5]), array([2, 2, 2, 2, 1]))"
      ]
     },
     "execution_count": 161,
     "metadata": {},
     "output_type": "execute_result"
    }
   ],
   "source": [
    "# 各要素のカウントを返す\n",
    "np.unique(array, return_counts=True)"
   ]
  },
  {
   "cell_type": "markdown",
   "id": "bba39f89-ecdd-42fd-b140-a61745115a2e",
   "metadata": {},
   "source": [
    "### np.bincount()"
   ]
  },
  {
   "cell_type": "code",
   "execution_count": 163,
   "id": "b7100d90-9bed-4fd5-a15b-5d7f46a987af",
   "metadata": {},
   "outputs": [
    {
     "data": {
      "text/plain": [
       "array([0, 2, 2, 2, 2, 1])"
      ]
     },
     "execution_count": 163,
     "metadata": {},
     "output_type": "execute_result"
    }
   ],
   "source": [
    "# 0からの連番がいくつあるかを数える\n",
    "np.bincount(array)"
   ]
  },
  {
   "cell_type": "markdown",
   "id": "81cdc21b",
   "metadata": {},
   "source": [
    "# 31.結合と転置"
   ]
  },
  {
   "cell_type": "markdown",
   "id": "95cfeb5a-ba5c-43d8-9a3c-1e9f9982bf63",
   "metadata": {},
   "source": [
    "## np.concatenate()とnp.stack"
   ]
  },
  {
   "cell_type": "markdown",
   "id": "5c9cbe50-6716-490c-a52d-ef77290b1ce0",
   "metadata": {},
   "source": [
    "concatenateは次元そのまま。stackは指定の次元に並べる"
   ]
  },
  {
   "cell_type": "code",
   "execution_count": 164,
   "id": "520973ec-de91-4bb0-b311-8f468f0516f4",
   "metadata": {},
   "outputs": [
    {
     "data": {
      "text/plain": [
       "array([[ 0,  2,  4],\n",
       "       [ 6,  8, 10],\n",
       "       [12, 14, 16]])"
      ]
     },
     "execution_count": 164,
     "metadata": {},
     "output_type": "execute_result"
    }
   ],
   "source": [
    "ndarray_even = np.arange(0, 18, 2).reshape(3, 3)\n",
    "ndarray_even"
   ]
  },
  {
   "cell_type": "code",
   "execution_count": 165,
   "id": "82be6e91-0406-44c7-9021-d9074b4907be",
   "metadata": {},
   "outputs": [
    {
     "data": {
      "text/plain": [
       "array([[ 1,  3,  5],\n",
       "       [ 7,  9, 11],\n",
       "       [13, 15, 17]])"
      ]
     },
     "execution_count": 165,
     "metadata": {},
     "output_type": "execute_result"
    }
   ],
   "source": [
    "ndarray_odd = np.arange(1, 19, 2).reshape(3, 3)\n",
    "ndarray_odd"
   ]
  },
  {
   "cell_type": "code",
   "execution_count": 170,
   "id": "d52d3d57-2eb6-4625-a314-d07fb0175672",
   "metadata": {},
   "outputs": [
    {
     "data": {
      "text/plain": [
       "array([[ 0,  2,  4],\n",
       "       [ 6,  8, 10],\n",
       "       [12, 14, 16],\n",
       "       [ 1,  3,  5],\n",
       "       [ 7,  9, 11],\n",
       "       [13, 15, 17]])"
      ]
     },
     "execution_count": 170,
     "metadata": {},
     "output_type": "execute_result"
    }
   ],
   "source": [
    "np.concatenate([ndarray_even, ndarray_odd], axis=0)"
   ]
  },
  {
   "cell_type": "code",
   "execution_count": 184,
   "id": "b1b4e7d3-c19d-4ca1-8bb3-9381eabf1934",
   "metadata": {},
   "outputs": [
    {
     "data": {
      "text/plain": [
       "array([[[ 0,  2,  4],\n",
       "        [ 1,  3,  5]],\n",
       "\n",
       "       [[ 6,  8, 10],\n",
       "        [ 7,  9, 11]],\n",
       "\n",
       "       [[12, 14, 16],\n",
       "        [13, 15, 17]]])"
      ]
     },
     "execution_count": 184,
     "metadata": {},
     "output_type": "execute_result"
    }
   ],
   "source": [
    "stacked_array = np.stack([ndarray_even, ndarray_odd], axis=1)\n",
    "stacked_array"
   ]
  },
  {
   "cell_type": "code",
   "execution_count": 185,
   "id": "0355dfd6-8fe6-4059-9e3a-be0271aee491",
   "metadata": {},
   "outputs": [
    {
     "data": {
      "text/plain": [
       "(3, 2, 3)"
      ]
     },
     "execution_count": 185,
     "metadata": {},
     "output_type": "execute_result"
    }
   ],
   "source": [
    "stacked_array.shape"
   ]
  },
  {
   "cell_type": "markdown",
   "id": "b9f5077c-314b-4957-83bd-e0f1ff5d9b7d",
   "metadata": {},
   "source": [
    "## np.transpose .T"
   ]
  },
  {
   "cell_type": "code",
   "execution_count": 187,
   "id": "6f36a898-2ef7-41ac-84b7-7d72016ad6fc",
   "metadata": {},
   "outputs": [
    {
     "data": {
      "text/plain": [
       "array([[-0.51744967, -1.22614045, -1.28761623, -0.38284118],\n",
       "       [-0.69651913, -0.55193062, -1.0309493 ,  1.02331539],\n",
       "       [-0.92479879,  0.39317429,  1.77091299,  1.01769962]])"
      ]
     },
     "execution_count": 187,
     "metadata": {},
     "output_type": "execute_result"
    }
   ],
   "source": [
    "ndarray = np.random.randn(3, 4)\n",
    "ndarray"
   ]
  },
  {
   "cell_type": "code",
   "execution_count": 188,
   "id": "67fc74ca-8d31-444b-b1ce-d7afeaa4c349",
   "metadata": {},
   "outputs": [
    {
     "data": {
      "text/plain": [
       "(3, 4)"
      ]
     },
     "execution_count": 188,
     "metadata": {},
     "output_type": "execute_result"
    }
   ],
   "source": [
    "ndarray.shape"
   ]
  },
  {
   "cell_type": "code",
   "execution_count": 191,
   "id": "e65dd3a9-3f77-476f-aa12-4d3c26c733e0",
   "metadata": {},
   "outputs": [
    {
     "data": {
      "text/plain": [
       "array([[-0.51744967, -0.69651913, -0.92479879],\n",
       "       [-1.22614045, -0.55193062,  0.39317429],\n",
       "       [-1.28761623, -1.0309493 ,  1.77091299],\n",
       "       [-0.38284118,  1.02331539,  1.01769962]])"
      ]
     },
     "execution_count": 191,
     "metadata": {},
     "output_type": "execute_result"
    }
   ],
   "source": [
    "transpose_ndarray = np.transpose(ndarray) # = ndarray.T\n",
    "transpose_ndarray"
   ]
  },
  {
   "cell_type": "markdown",
   "id": "53d14269-bdb4-4178-9157-567298d758eb",
   "metadata": {},
   "source": [
    "# 32.np.save('path', array) と np.load('path')"
   ]
  },
  {
   "cell_type": "code",
   "execution_count": 196,
   "id": "3eeb1b16-f517-44ab-9713-7a00a14b4ecb",
   "metadata": {},
   "outputs": [
    {
     "data": {
      "text/plain": [
       "(3, 4, 5)"
      ]
     },
     "execution_count": 196,
     "metadata": {},
     "output_type": "execute_result"
    }
   ],
   "source": [
    "ndarray = np.random.randn(3, 4, 5)\n",
    "ndarray.shape"
   ]
  },
  {
   "cell_type": "code",
   "execution_count": 198,
   "id": "e9299abc-d738-424c-aaa1-59465b8db87d",
   "metadata": {},
   "outputs": [],
   "source": [
    "np.save('sample_ndarray', ndarray)"
   ]
  },
  {
   "cell_type": "code",
   "execution_count": 200,
   "id": "df3ad793-fc3c-4285-90cf-d4318ce282f9",
   "metadata": {},
   "outputs": [
    {
     "data": {
      "text/plain": [
       "(3, 4, 5)"
      ]
     },
     "execution_count": 200,
     "metadata": {},
     "output_type": "execute_result"
    }
   ],
   "source": [
    "loaded_ndarray = np.load('sample_ndarray.npy')\n",
    "loaded_ndarray.shape"
   ]
  },
  {
   "cell_type": "markdown",
   "id": "312e4c2f-210e-47b7-a802-55d125abe1ee",
   "metadata": {},
   "source": [
    "ndarrayだけではなくて、別の情報を付け加えることが多い"
   ]
  },
  {
   "cell_type": "code",
   "execution_count": 204,
   "id": "f4c993fe-804d-4f01-a598-29cc664431fe",
   "metadata": {},
   "outputs": [],
   "source": [
    "dictionary = {\n",
    "    'id': 123456,\n",
    "    'image': ndarray\n",
    "}"
   ]
  },
  {
   "cell_type": "code",
   "execution_count": 205,
   "id": "91e6c16a-797e-4c8d-b59e-fc855bf8feb3",
   "metadata": {},
   "outputs": [],
   "source": [
    "np.save('sample_dict.npy', dictionary)"
   ]
  },
  {
   "cell_type": "code",
   "execution_count": 215,
   "id": "c34f0c58-560c-47b0-a687-f32d404de629",
   "metadata": {},
   "outputs": [],
   "source": [
    "# np.load('sample_dict.npy')\n",
    "# ValueError: Object arrays cannot be loaded when allow_pickle=False\n",
    "loaded_dict = np.load('sample_dict.npy', allow_pickle=True)[()]\n",
    "# [()]があると、dictで返ってくる"
   ]
  },
  {
   "cell_type": "code",
   "execution_count": 216,
   "id": "a6e81d47-4702-4099-bb35-858d57d76a06",
   "metadata": {},
   "outputs": [
    {
     "data": {
      "text/plain": [
       "{'id': 123456,\n",
       " 'image': array([[[-2.66496736,  1.07158398,  0.67518412,  0.34140565,\n",
       "           0.31371954],\n",
       "         [-0.57574864,  1.33204124,  0.03437017,  0.36067161,\n",
       "          -0.34504026],\n",
       "         [ 0.68413796, -1.47544572,  0.61216361,  0.20259417,\n",
       "          -1.05855594],\n",
       "         [-0.1673645 ,  0.1027716 ,  0.43130781,  0.50729077,\n",
       "          -0.24760692]],\n",
       " \n",
       "        [[-0.84521031,  0.46022314, -1.49038305,  0.02840563,\n",
       "          -0.833289  ],\n",
       "         [ 0.23688517, -0.57912198,  1.12009359, -0.28930985,\n",
       "          -1.11057421],\n",
       "         [ 1.012917  ,  0.30285226, -1.37770875, -0.06016355,\n",
       "           1.32330957],\n",
       "         [ 0.4527403 , -0.19451466,  0.62439336,  1.49246696,\n",
       "          -0.05152962]],\n",
       " \n",
       "        [[-1.40479966, -0.06850061,  1.45857966, -2.90988703,\n",
       "          -0.2549928 ],\n",
       "         [ 1.13415863, -1.23972113, -0.75219392,  0.62397975,\n",
       "           0.5637631 ],\n",
       "         [-0.53552067,  0.74271355,  0.89965623, -0.8319315 ,\n",
       "           0.70133264],\n",
       "         [-1.0319369 , -1.13861314, -0.98403336, -0.60011419,\n",
       "           1.3698317 ]]])}"
      ]
     },
     "execution_count": 216,
     "metadata": {},
     "output_type": "execute_result"
    }
   ],
   "source": [
    "loaded_dict"
   ]
  },
  {
   "cell_type": "code",
   "execution_count": null,
   "id": "804000cf-1c17-4e40-9fb7-9e8fe86f00ca",
   "metadata": {},
   "outputs": [],
   "source": []
  }
 ],
 "metadata": {
  "interpreter": {
   "hash": "40d3a090f54c6569ab1632332b64b2c03c39dcf918b08424e98f38b5ae0af88f"
  },
  "kernelspec": {
   "display_name": "Python 3.8.8 ('base')",
   "language": "python",
   "name": "python3"
  },
  "language_info": {
   "codemirror_mode": {
    "name": "ipython",
    "version": 3
   },
   "file_extension": ".py",
   "mimetype": "text/x-python",
   "name": "python",
   "nbconvert_exporter": "python",
   "pygments_lexer": "ipython3",
   "version": "3.8.8"
  }
 },
 "nbformat": 4,
 "nbformat_minor": 5
}
