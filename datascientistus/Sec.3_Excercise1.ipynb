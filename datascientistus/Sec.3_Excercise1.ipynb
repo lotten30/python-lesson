{
 "cells": [
  {
   "cell_type": "markdown",
   "id": "cad8d1e3",
   "metadata": {},
   "source": [
    "Q. リストを引数にして、各要素に、'_<その要素のindex番号>.png'を付けたリストを返す関数\n"
   ]
  },
  {
   "cell_type": "code",
   "execution_count": 4,
   "id": "e6b50ebe-51a6-4476-be37-f97a6f3423ea",
   "metadata": {},
   "outputs": [],
   "source": [
    "filenames = ['filename1', 'filename2', 'filename3']"
   ]
  },
  {
   "cell_type": "code",
   "execution_count": 2,
   "id": "7f9ae24c-422d-49a2-a3e1-b6e252bd2819",
   "metadata": {},
   "outputs": [],
   "source": [
    "def add_png(filename_list):\n",
    "    \"\"\"\n",
    "    各要素に'_＜その要素のindex番号＞.png'を付けたリストを返す\n",
    "    \n",
    "    params\n",
    "    -------------\n",
    "        filename_list:ファイル名のリスト\n",
    "    \n",
    "    return\n",
    "    -------------\n",
    "        new_filenames:filename_list の各要素に'_＜その要素のindex番号＞.png'を付けたリスト\n",
    "    \"\"\"\n",
    "#     new_filenames = []\n",
    "#     for idx, filename in enumerate(filename_list):\n",
    "#         new_filenames.append(filename + '_' + str(idx) + '.png')\n",
    "#         new_filenames.append('{}_{}.png'.format(filename, idx))\n",
    "    \n",
    "    return ['{}_{}.png'.format(f, i) for i, f in enumerate(filenames)]"
   ]
  },
  {
   "cell_type": "code",
   "execution_count": 5,
   "id": "730a59b9-a50c-4817-852c-1771f7235040",
   "metadata": {},
   "outputs": [
    {
     "name": "stdout",
     "output_type": "stream",
     "text": [
      "['filename1_0.png', 'filename2_1.png', 'filename3_2.png']\n"
     ]
    }
   ],
   "source": [
    "new_filenames = add_png(filenames)\n",
    "print(new_filenames)"
   ]
  },
  {
   "cell_type": "code",
   "execution_count": 31,
   "id": "18e412be-4337-4dca-91da-5360a43e7222",
   "metadata": {},
   "outputs": [
    {
     "name": "stdout",
     "output_type": "stream",
     "text": [
      "['filename1_0.png', 'filename2_1.png', 'filename3_2.png']\n"
     ]
    }
   ],
   "source": [
    "new_filenames2 = ['{}_{}.png'.format(f, i) for i, f in enumerate(filenames)]\n",
    "print(new_filenames2)"
   ]
  },
  {
   "cell_type": "code",
   "execution_count": 6,
   "id": "06cb6342-c78d-4cbf-9ca7-fd42d34358dd",
   "metadata": {},
   "outputs": [],
   "source": [
    "# リスト内包表記の場合\n",
    "## 空のリストを作る → forループを作る → ループする値をどう扱うか考える\n",
    "def add_extension(filename_list, extension='.png'):\n",
    "    \"\"\"\n",
    "    各要素に'_＜その要素のindex番号＞＜拡張子＞'を付けたリストを返す\n",
    "    \n",
    "    params\n",
    "    -------------\n",
    "        filename_list:ファイル名のリスト\n",
    "        extension:拡張子\n",
    "    return\n",
    "    -------------\n",
    "        new_filenames:filename_list の各要素に'_＜その要素のindex番号＞.png'を付けたリスト\n",
    "    \"\"\"\n",
    "#     new_filenames = []\n",
    "#     for i, f in enumerate(filename_list):\n",
    "#         new_filenames.append(f + '_' + str(i) + '.png')\n",
    "#         new_filenames.append('{}_{}.png'.format(f, i))\n",
    "    \n",
    "    return ['{}_{}{}'.format(f, i, extension) for i, f in enumerate(filenames)]"
   ]
  },
  {
   "cell_type": "code",
   "execution_count": 7,
   "id": "776d838b-1188-460b-84d3-f01a34ddcc1f",
   "metadata": {},
   "outputs": [
    {
     "data": {
      "text/plain": [
       "['filename1_0.jpg', 'filename2_1.jpg', 'filename3_2.jpg']"
      ]
     },
     "execution_count": 7,
     "metadata": {},
     "output_type": "execute_result"
    }
   ],
   "source": [
    "add_extension(filenames, '.jpg')"
   ]
  },
  {
   "cell_type": "code",
   "execution_count": 8,
   "id": "f6ae8b8f-ca73-40cc-b57a-191adcc34598",
   "metadata": {},
   "outputs": [],
   "source": [
    "# ラムダ関数の場合\n",
    "x = lambda filename_list, extension: ['{}_{}{}'.format(f, i, extension) for i, f in enumerate(filenames)]"
   ]
  },
  {
   "cell_type": "code",
   "execution_count": 10,
   "id": "df3c3620-f86e-45b6-97ed-080d326e928b",
   "metadata": {},
   "outputs": [
    {
     "data": {
      "text/plain": [
       "['filename1_0.jpg', 'filename2_1.jpg', 'filename3_2.jpg']"
      ]
     },
     "execution_count": 10,
     "metadata": {},
     "output_type": "execute_result"
    }
   ],
   "source": [
    "x(filenames, '.jpg')"
   ]
  },
  {
   "cell_type": "markdown",
   "id": "9ce75c97",
   "metadata": {},
   "source": [
    "ラムダ関数は表計算以外ではあまり使わない\n",
    "ラムダ関数は説明文をつけれない"
   ]
  }
 ],
 "metadata": {
  "interpreter": {
   "hash": "40d3a090f54c6569ab1632332b64b2c03c39dcf918b08424e98f38b5ae0af88f"
  },
  "kernelspec": {
   "display_name": "Python 3.8.8 ('base')",
   "language": "python",
   "name": "python3"
  },
  "language_info": {
   "codemirror_mode": {
    "name": "ipython",
    "version": 3
   },
   "file_extension": ".py",
   "mimetype": "text/x-python",
   "name": "python",
   "nbconvert_exporter": "python",
   "pygments_lexer": "ipython3",
   "version": "3.8.8"
  }
 },
 "nbformat": 4,
 "nbformat_minor": 5
}
